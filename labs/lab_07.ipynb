{
 "cells": [
  {
   "cell_type": "markdown",
   "metadata": {},
   "source": [
    "# MAT281 - Laboratorios N°07"
   ]
  },
  {
   "cell_type": "markdown",
   "metadata": {},
   "source": [
    "<a id='p1'></a>\n",
    "## I.- Problema 01\n",
    "\n",
    "\n",
    "<img src=\"https://upload.wikimedia.org/wikipedia/commons/thumb/b/b6/Anscombe.svg/1200px-Anscombe.svg.png\" width=\"360\" height=\"360\" align=\"center\"/>\n",
    "\n"
   ]
  },
  {
   "cell_type": "markdown",
   "metadata": {},
   "source": [
    "El **cuarteto de Anscombe** comprende cuatro conjuntos de datos que tienen las mismas propiedades estadísticas, pero que evidentemente son distintas al inspeccionar sus gráficos respectivos.\n",
    "\n",
    "Cada conjunto consiste de once puntos (x, y) y fueron construidos por el estadístico F. J. Anscombe. El cuarteto es una demostración de la importancia de mirar gráficamente un conjunto de datos antes de analizarlos."
   ]
  },
  {
   "cell_type": "code",
   "execution_count": 1,
   "metadata": {},
   "outputs": [],
   "source": [
    "import os\n",
    "import numpy as np\n",
    "import pandas as pd\n",
    "import matplotlib.pyplot as plt\n",
    "import seaborn as sns\n",
    "\n",
    "%matplotlib inline\n",
    "sns.set_palette(\"deep\", desat=.6)\n",
    "sns.set(rc={'figure.figsize':(11.7,8.27)})"
   ]
  },
  {
   "cell_type": "code",
   "execution_count": 2,
   "metadata": {},
   "outputs": [
    {
     "data": {
      "text/html": [
       "<div>\n",
       "<style scoped>\n",
       "    .dataframe tbody tr th:only-of-type {\n",
       "        vertical-align: middle;\n",
       "    }\n",
       "\n",
       "    .dataframe tbody tr th {\n",
       "        vertical-align: top;\n",
       "    }\n",
       "\n",
       "    .dataframe thead th {\n",
       "        text-align: right;\n",
       "    }\n",
       "</style>\n",
       "<table border=\"1\" class=\"dataframe\">\n",
       "  <thead>\n",
       "    <tr style=\"text-align: right;\">\n",
       "      <th></th>\n",
       "      <th>x</th>\n",
       "      <th>y</th>\n",
       "      <th>grupo</th>\n",
       "    </tr>\n",
       "  </thead>\n",
       "  <tbody>\n",
       "    <tr>\n",
       "      <th>0</th>\n",
       "      <td>10</td>\n",
       "      <td>8.04</td>\n",
       "      <td>Grupo_1</td>\n",
       "    </tr>\n",
       "    <tr>\n",
       "      <th>1</th>\n",
       "      <td>8</td>\n",
       "      <td>6.95</td>\n",
       "      <td>Grupo_1</td>\n",
       "    </tr>\n",
       "    <tr>\n",
       "      <th>2</th>\n",
       "      <td>13</td>\n",
       "      <td>7.58</td>\n",
       "      <td>Grupo_1</td>\n",
       "    </tr>\n",
       "    <tr>\n",
       "      <th>3</th>\n",
       "      <td>9</td>\n",
       "      <td>8.81</td>\n",
       "      <td>Grupo_1</td>\n",
       "    </tr>\n",
       "    <tr>\n",
       "      <th>4</th>\n",
       "      <td>11</td>\n",
       "      <td>8.33</td>\n",
       "      <td>Grupo_1</td>\n",
       "    </tr>\n",
       "  </tbody>\n",
       "</table>\n",
       "</div>"
      ],
      "text/plain": [
       "    x     y    grupo\n",
       "0  10  8.04  Grupo_1\n",
       "1   8  6.95  Grupo_1\n",
       "2  13  7.58  Grupo_1\n",
       "3   9  8.81  Grupo_1\n",
       "4  11  8.33  Grupo_1"
      ]
     },
     "execution_count": 2,
     "metadata": {},
     "output_type": "execute_result"
    }
   ],
   "source": [
    "# cargar datos\n",
    "df = pd.read_csv(os.path.join(\"data\",\"anscombe.csv\"), sep=\",\")\n",
    "df.head()"
   ]
  },
  {
   "cell_type": "markdown",
   "metadata": {},
   "source": [
    "Basado en la información presentada responda las siguientes preguntas:\n",
    "\n",
    "1. Gráfique mediante un gráfico tipo **scatter** cada grupo. A simple vista, ¿ los grupos son muy distintos entre si?.\n",
    "2. Realice un resumen de las medidas estadísticas más significativas ocuapando el comando **describe** para cada grupo. Interprete.\n",
    "3. Realice un ajuste lineal para cada grupo. Además, grafique los resultados de la regresión lineal para cada grupo. Interprete.\n",
    "4. Calcule los resultados de las métricas para cada grupo. Interprete.\n",
    "5. Es claro que el ajuste lineal para algunos grupos no es el correcto. Existen varias formas de solucionar este problema (eliminar outliers, otros modelos, etc.). Identifique una estrategia para que el modelo de regresión lineal ajuste de mejor manera e implemente otros modelos en los casos que encuentre necesario.  "
   ]
  },
  {
   "cell_type": "markdown",
   "metadata": {},
   "source": [
    "# 1.-"
   ]
  },
  {
   "cell_type": "code",
   "execution_count": 3,
   "metadata": {},
   "outputs": [
    {
     "data": {
      "text/plain": [
       "<AxesSubplot:xlabel='x', ylabel='y'>"
      ]
     },
     "execution_count": 3,
     "metadata": {},
     "output_type": "execute_result"
    },
    {
     "data": {
      "image/png": "[encoded data removed]",
      "text/plain": [
       "<Figure size 1296x720 with 4 Axes>"
      ]
     },
     "metadata": {},
     "output_type": "display_data"
    }
   ],
   "source": [
    "fig, axes = plt.subplots(2, 2, figsize=(18, 10))\n",
    "sns.scatterplot(ax=axes[0, 0],data=df.loc[df['grupo']=='Grupo_1'], x=\"x\", y=\"y\")\n",
    "sns.scatterplot(ax=axes[0, 1],data=df.loc[df['grupo']=='Grupo_2'], x=\"x\", y=\"y\")\n",
    "sns.scatterplot(ax=axes[1, 0],data=df.loc[df['grupo']=='Grupo_3'], x=\"x\", y=\"y\")\n",
    "sns.scatterplot(ax=axes[1, 1],data=df.loc[df['grupo']=='Grupo_4'], x=\"x\", y=\"y\")\n"
   ]
  },
  {
   "cell_type": "markdown",
   "metadata": {},
   "source": [
    "podemos notar enormes diferencias entre los grupos por lo que deveria trabajarse de maneras diferentes con ellos."
   ]
  },
  {
   "cell_type": "markdown",
   "metadata": {},
   "source": [
    "# 2.-"
   ]
  },
  {
   "cell_type": "code",
   "execution_count": 4,
   "metadata": {},
   "outputs": [
    {
     "data": {
      "text/html": [
       "<div>\n",
       "<style scoped>\n",
       "    .dataframe tbody tr th:only-of-type {\n",
       "        vertical-align: middle;\n",
       "    }\n",
       "\n",
       "    .dataframe tbody tr th {\n",
       "        vertical-align: top;\n",
       "    }\n",
       "\n",
       "    .dataframe thead tr th {\n",
       "        text-align: left;\n",
       "    }\n",
       "\n",
       "    .dataframe thead tr:last-of-type th {\n",
       "        text-align: right;\n",
       "    }\n",
       "</style>\n",
       "<table border=\"1\" class=\"dataframe\">\n",
       "  <thead>\n",
       "    <tr>\n",
       "      <th></th>\n",
       "      <th colspan=\"8\" halign=\"left\">x</th>\n",
       "      <th colspan=\"8\" halign=\"left\">y</th>\n",
       "    </tr>\n",
       "    <tr>\n",
       "      <th></th>\n",
       "      <th>count</th>\n",
       "      <th>mean</th>\n",
       "      <th>std</th>\n",
       "      <th>min</th>\n",
       "      <th>25%</th>\n",
       "      <th>50%</th>\n",
       "      <th>75%</th>\n",
       "      <th>max</th>\n",
       "      <th>count</th>\n",
       "      <th>mean</th>\n",
       "      <th>std</th>\n",
       "      <th>min</th>\n",
       "      <th>25%</th>\n",
       "      <th>50%</th>\n",
       "      <th>75%</th>\n",
       "      <th>max</th>\n",
       "    </tr>\n",
       "    <tr>\n",
       "      <th>grupo</th>\n",
       "      <th></th>\n",
       "      <th></th>\n",
       "      <th></th>\n",
       "      <th></th>\n",
       "      <th></th>\n",
       "      <th></th>\n",
       "      <th></th>\n",
       "      <th></th>\n",
       "      <th></th>\n",
       "      <th></th>\n",
       "      <th></th>\n",
       "      <th></th>\n",
       "      <th></th>\n",
       "      <th></th>\n",
       "      <th></th>\n",
       "      <th></th>\n",
       "    </tr>\n",
       "  </thead>\n",
       "  <tbody>\n",
       "    <tr>\n",
       "      <th>Grupo_1</th>\n",
       "      <td>11.0</td>\n",
       "      <td>9.0</td>\n",
       "      <td>3.316625</td>\n",
       "      <td>4.0</td>\n",
       "      <td>6.5</td>\n",
       "      <td>9.0</td>\n",
       "      <td>11.5</td>\n",
       "      <td>14.0</td>\n",
       "      <td>11.0</td>\n",
       "      <td>7.500909</td>\n",
       "      <td>2.031568</td>\n",
       "      <td>4.26</td>\n",
       "      <td>6.315</td>\n",
       "      <td>7.58</td>\n",
       "      <td>8.57</td>\n",
       "      <td>10.84</td>\n",
       "    </tr>\n",
       "    <tr>\n",
       "      <th>Grupo_2</th>\n",
       "      <td>11.0</td>\n",
       "      <td>9.0</td>\n",
       "      <td>3.316625</td>\n",
       "      <td>4.0</td>\n",
       "      <td>6.5</td>\n",
       "      <td>9.0</td>\n",
       "      <td>11.5</td>\n",
       "      <td>14.0</td>\n",
       "      <td>11.0</td>\n",
       "      <td>7.500909</td>\n",
       "      <td>2.031657</td>\n",
       "      <td>3.10</td>\n",
       "      <td>6.695</td>\n",
       "      <td>8.14</td>\n",
       "      <td>8.95</td>\n",
       "      <td>9.26</td>\n",
       "    </tr>\n",
       "    <tr>\n",
       "      <th>Grupo_3</th>\n",
       "      <td>11.0</td>\n",
       "      <td>9.0</td>\n",
       "      <td>3.316625</td>\n",
       "      <td>4.0</td>\n",
       "      <td>6.5</td>\n",
       "      <td>9.0</td>\n",
       "      <td>11.5</td>\n",
       "      <td>14.0</td>\n",
       "      <td>11.0</td>\n",
       "      <td>7.500000</td>\n",
       "      <td>2.030424</td>\n",
       "      <td>5.39</td>\n",
       "      <td>6.250</td>\n",
       "      <td>7.11</td>\n",
       "      <td>7.98</td>\n",
       "      <td>12.74</td>\n",
       "    </tr>\n",
       "    <tr>\n",
       "      <th>Grupo_4</th>\n",
       "      <td>11.0</td>\n",
       "      <td>9.0</td>\n",
       "      <td>3.316625</td>\n",
       "      <td>8.0</td>\n",
       "      <td>8.0</td>\n",
       "      <td>8.0</td>\n",
       "      <td>8.0</td>\n",
       "      <td>19.0</td>\n",
       "      <td>11.0</td>\n",
       "      <td>7.500909</td>\n",
       "      <td>2.030579</td>\n",
       "      <td>5.25</td>\n",
       "      <td>6.170</td>\n",
       "      <td>7.04</td>\n",
       "      <td>8.19</td>\n",
       "      <td>12.50</td>\n",
       "    </tr>\n",
       "  </tbody>\n",
       "</table>\n",
       "</div>"
      ],
      "text/plain": [
       "            x                                               y            \\\n",
       "        count mean       std  min  25%  50%   75%   max count      mean   \n",
       "grupo                                                                     \n",
       "Grupo_1  11.0  9.0  3.316625  4.0  6.5  9.0  11.5  14.0  11.0  7.500909   \n",
       "Grupo_2  11.0  9.0  3.316625  4.0  6.5  9.0  11.5  14.0  11.0  7.500909   \n",
       "Grupo_3  11.0  9.0  3.316625  4.0  6.5  9.0  11.5  14.0  11.0  7.500000   \n",
       "Grupo_4  11.0  9.0  3.316625  8.0  8.0  8.0   8.0  19.0  11.0  7.500909   \n",
       "\n",
       "                                                   \n",
       "              std   min    25%   50%   75%    max  \n",
       "grupo                                              \n",
       "Grupo_1  2.031568  4.26  6.315  7.58  8.57  10.84  \n",
       "Grupo_2  2.031657  3.10  6.695  8.14  8.95   9.26  \n",
       "Grupo_3  2.030424  5.39  6.250  7.11  7.98  12.74  \n",
       "Grupo_4  2.030579  5.25  6.170  7.04  8.19  12.50  "
      ]
     },
     "execution_count": 4,
     "metadata": {},
     "output_type": "execute_result"
    }
   ],
   "source": [
    "df.groupby(['grupo']).describe()"
   ]
  },
  {
   "cell_type": "markdown",
   "metadata": {},
   "source": [
    "podemos notar que la media, desviacion estandar del x y los conteos son iguales en todos los grupos, tambien hay mucha similitud en los percentiles y la desviacion estandar de y. es sorpresivo ver que graficos tan diferentes den valores tan similares, esto mee hace pensar que las estimaciones lineales basicas se veran muy similares."
   ]
  },
  {
   "cell_type": "markdown",
   "metadata": {},
   "source": [
    "# 3.-"
   ]
  },
  {
   "cell_type": "code",
   "execution_count": 5,
   "metadata": {},
   "outputs": [],
   "source": [
    "from sklearn import datasets\n",
    "from sklearn.linear_model import LinearRegression"
   ]
  },
  {
   "cell_type": "code",
   "execution_count": 6,
   "metadata": {},
   "outputs": [
    {
     "data": {
      "text/plain": [
       "[<matplotlib.lines.Line2D at 0x1c5f4c2dc70>]"
      ]
     },
     "execution_count": 6,
     "metadata": {},
     "output_type": "execute_result"
    },
    {
     "data": {
      "image/png": "[encoded data removed]",
      "text/plain": [
       "<Figure size 1296x720 with 4 Axes>"
      ]
     },
     "metadata": {},
     "output_type": "display_data"
    }
   ],
   "source": [
    "fig, axes = plt.subplots(2, 2, figsize=(18, 10))\n",
    "reg1 = LinearRegression().fit(np.array(df.loc[df['grupo']==\"Grupo_1\"].x).reshape(-1, 1), np.array(df.loc[df['grupo']==\"Grupo_1\"].y).reshape(-1, 1))\n",
    "sns.scatterplot(ax=axes[0, 0],data=df.loc[df['grupo']==\"Grupo_1\"], x=\"x\", y=\"y\")\n",
    "inte,coef= reg1.intercept_, reg1.coef_[0]\n",
    "axes[0,0].plot(np.arange(1,20,0.1), inte+coef*np.arange(1,20,0.1))\n",
    "\n",
    "reg2 = LinearRegression().fit(np.array(df.loc[df['grupo']==\"Grupo_2\"].x).reshape(-1, 1), np.array(df.loc[df['grupo']==\"Grupo_2\"].y).reshape(-1, 1))\n",
    "sns.scatterplot(ax=axes[0, 1],data=df.loc[df['grupo']==\"Grupo_2\"], x=\"x\", y=\"y\")\n",
    "inte,coef= reg2.intercept_, reg2.coef_[0]\n",
    "axes[0,1].plot(np.arange(1,20,0.1), inte+coef*np.arange(1,20,0.1))\n",
    "\n",
    "reg3 = LinearRegression().fit(np.array(df.loc[df['grupo']==\"Grupo_3\"].x).reshape(-1, 1), np.array(df.loc[df['grupo']==\"Grupo_3\"].y).reshape(-1, 1))\n",
    "sns.scatterplot(ax=axes[1, 0],data=df.loc[df['grupo']==\"Grupo_3\"], x=\"x\", y=\"y\")\n",
    "inte,coef= reg3.intercept_, reg3.coef_[0]\n",
    "axes[1,0].plot(np.arange(1,20,0.1), inte+coef*np.arange(1,20,0.1))\n",
    "\n",
    "reg4 = LinearRegression().fit(np.array(df.loc[df['grupo']==\"Grupo_4\"].x).reshape(-1, 1), np.array(df.loc[df['grupo']==\"Grupo_4\"].y).reshape(-1, 1))\n",
    "sns.scatterplot(ax=axes[1, 1],data=df.loc[df['grupo']==\"Grupo_4\"], x=\"x\", y=\"y\")\n",
    "inte,coef= reg4.intercept_, reg4.coef_[0]\n",
    "axes[1,1].plot(np.arange(1,20,0.1), inte+coef*np.arange(1,20,0.1))"
   ]
  },
  {
   "cell_type": "markdown",
   "metadata": {},
   "source": [
    "notamos que nuestra hipotesis fue correcta porque sin importar la diferencia visual de los graficos los datos estadistico nos adelantaron que las estimaciones lineales son muy similares entre si"
   ]
  },
  {
   "cell_type": "markdown",
   "metadata": {},
   "source": [
    "# 4.- "
   ]
  },
  {
   "cell_type": "code",
   "execution_count": 7,
   "metadata": {},
   "outputs": [],
   "source": [
    "import statsmodels.api as sm\n",
    "from metrics_regression import *\n",
    "from sklearn.metrics import r2_score"
   ]
  },
  {
   "cell_type": "code",
   "execution_count": 8,
   "metadata": {},
   "outputs": [
    {
     "data": {
      "text/html": [
       "<div>\n",
       "<style scoped>\n",
       "    .dataframe tbody tr th:only-of-type {\n",
       "        vertical-align: middle;\n",
       "    }\n",
       "\n",
       "    .dataframe tbody tr th {\n",
       "        vertical-align: top;\n",
       "    }\n",
       "\n",
       "    .dataframe thead th {\n",
       "        text-align: right;\n",
       "    }\n",
       "</style>\n",
       "<table border=\"1\" class=\"dataframe\">\n",
       "  <thead>\n",
       "    <tr style=\"text-align: right;\">\n",
       "      <th></th>\n",
       "      <th>mae</th>\n",
       "      <th>mse</th>\n",
       "      <th>rmse</th>\n",
       "      <th>mape</th>\n",
       "      <th>maape</th>\n",
       "      <th>wmape</th>\n",
       "      <th>mmape</th>\n",
       "      <th>smape</th>\n",
       "      <th>r2</th>\n",
       "    </tr>\n",
       "  </thead>\n",
       "  <tbody>\n",
       "    <tr>\n",
       "      <th>0</th>\n",
       "      <td>0.8374</td>\n",
       "      <td>1.2512</td>\n",
       "      <td>1.1185</td>\n",
       "      <td>0.1213</td>\n",
       "      <td>0.119</td>\n",
       "      <td>0.1116</td>\n",
       "      <td>0.1048</td>\n",
       "      <td>0.1167</td>\n",
       "      <td>0.6665</td>\n",
       "    </tr>\n",
       "  </tbody>\n",
       "</table>\n",
       "</div>"
      ],
      "text/plain": [
       "      mae     mse    rmse    mape  maape   wmape   mmape   smape      r2\n",
       "0  0.8374  1.2512  1.1185  0.1213  0.119  0.1116  0.1048  0.1167  0.6665"
      ]
     },
     "execution_count": 8,
     "metadata": {},
     "output_type": "execute_result"
    }
   ],
   "source": [
    "df1=pd.DataFrame(\n",
    "    {\n",
    "        \"y\":df.loc[df['grupo']==\"Grupo_1\"].y,\n",
    "        \"yhat\": reg1.predict(np.array(df.loc[df['grupo']==\"Grupo_1\"].x).reshape(-1, 1)).flatten()\n",
    "        }\n",
    ")\n",
    "metrica1=summary_metrics(df1)\n",
    "metrica1['r2'] = round (r2_score(df.loc[df['grupo']==\"Grupo_1\"].y,reg2.predict(np.array(df.loc[df['grupo']==\"Grupo_1\"].x).reshape(-1, 1)).flatten()),4)\n",
    "metrica1"
   ]
  },
  {
   "cell_type": "code",
   "execution_count": 9,
   "metadata": {},
   "outputs": [
    {
     "data": {
      "text/html": [
       "<div>\n",
       "<style scoped>\n",
       "    .dataframe tbody tr th:only-of-type {\n",
       "        vertical-align: middle;\n",
       "    }\n",
       "\n",
       "    .dataframe tbody tr th {\n",
       "        vertical-align: top;\n",
       "    }\n",
       "\n",
       "    .dataframe thead th {\n",
       "        text-align: right;\n",
       "    }\n",
       "</style>\n",
       "<table border=\"1\" class=\"dataframe\">\n",
       "  <thead>\n",
       "    <tr style=\"text-align: right;\">\n",
       "      <th></th>\n",
       "      <th>mae</th>\n",
       "      <th>mse</th>\n",
       "      <th>rmse</th>\n",
       "      <th>mape</th>\n",
       "      <th>maape</th>\n",
       "      <th>wmape</th>\n",
       "      <th>mmape</th>\n",
       "      <th>smape</th>\n",
       "      <th>r2</th>\n",
       "    </tr>\n",
       "  </thead>\n",
       "  <tbody>\n",
       "    <tr>\n",
       "      <th>0</th>\n",
       "      <td>0.9679</td>\n",
       "      <td>1.2524</td>\n",
       "      <td>1.1191</td>\n",
       "      <td>0.157</td>\n",
       "      <td>0.1504</td>\n",
       "      <td>0.129</td>\n",
       "      <td>0.1315</td>\n",
       "      <td>0.1438</td>\n",
       "      <td>0.6662</td>\n",
       "    </tr>\n",
       "  </tbody>\n",
       "</table>\n",
       "</div>"
      ],
      "text/plain": [
       "      mae     mse    rmse   mape   maape  wmape   mmape   smape      r2\n",
       "0  0.9679  1.2524  1.1191  0.157  0.1504  0.129  0.1315  0.1438  0.6662"
      ]
     },
     "execution_count": 9,
     "metadata": {},
     "output_type": "execute_result"
    }
   ],
   "source": [
    "df2=pd.DataFrame(\n",
    "    {\n",
    "        \"y\":df.loc[df['grupo']==\"Grupo_2\"].y,\n",
    "        \"yhat\": reg2.predict(np.array(df.loc[df['grupo']==\"Grupo_2\"].x).reshape(-1, 1)).flatten()\n",
    "        }\n",
    ")\n",
    "metrica2=summary_metrics(df2)\n",
    "metrica2['r2'] = round (r2_score(df.loc[df['grupo']==\"Grupo_2\"].y,reg2.predict(np.array(df.loc[df['grupo']==\"Grupo_2\"].x).reshape(-1, 1)).flatten()),4)\n",
    "metrica2"
   ]
  },
  {
   "cell_type": "code",
   "execution_count": 10,
   "metadata": {},
   "outputs": [
    {
     "data": {
      "text/html": [
       "<div>\n",
       "<style scoped>\n",
       "    .dataframe tbody tr th:only-of-type {\n",
       "        vertical-align: middle;\n",
       "    }\n",
       "\n",
       "    .dataframe tbody tr th {\n",
       "        vertical-align: top;\n",
       "    }\n",
       "\n",
       "    .dataframe thead th {\n",
       "        text-align: right;\n",
       "    }\n",
       "</style>\n",
       "<table border=\"1\" class=\"dataframe\">\n",
       "  <thead>\n",
       "    <tr style=\"text-align: right;\">\n",
       "      <th></th>\n",
       "      <th>mae</th>\n",
       "      <th>mse</th>\n",
       "      <th>rmse</th>\n",
       "      <th>mape</th>\n",
       "      <th>maape</th>\n",
       "      <th>wmape</th>\n",
       "      <th>mmape</th>\n",
       "      <th>smape</th>\n",
       "      <th>r2</th>\n",
       "    </tr>\n",
       "  </thead>\n",
       "  <tbody>\n",
       "    <tr>\n",
       "      <th>0</th>\n",
       "      <td>0.716</td>\n",
       "      <td>1.2506</td>\n",
       "      <td>1.1183</td>\n",
       "      <td>0.0797</td>\n",
       "      <td>0.0791</td>\n",
       "      <td>0.0955</td>\n",
       "      <td>0.0712</td>\n",
       "      <td>0.0814</td>\n",
       "      <td>0.6663</td>\n",
       "    </tr>\n",
       "  </tbody>\n",
       "</table>\n",
       "</div>"
      ],
      "text/plain": [
       "     mae     mse    rmse    mape   maape   wmape   mmape   smape      r2\n",
       "0  0.716  1.2506  1.1183  0.0797  0.0791  0.0955  0.0712  0.0814  0.6663"
      ]
     },
     "execution_count": 10,
     "metadata": {},
     "output_type": "execute_result"
    }
   ],
   "source": [
    "df3=pd.DataFrame(\n",
    "    {\n",
    "        \"y\":df.loc[df['grupo']==\"Grupo_3\"].y,\n",
    "        \"yhat\": reg3.predict(np.array(df.loc[df['grupo']==\"Grupo_3\"].x).reshape(-1, 1)).flatten()\n",
    "        }\n",
    ")\n",
    "metrica3=summary_metrics(df3)\n",
    "metrica3['r2'] = round (r2_score(df.loc[df['grupo']==\"Grupo_3\"].y,reg3.predict(np.array(df.loc[df['grupo']==\"Grupo_3\"].x).reshape(-1, 1)).flatten()),4)\n",
    "metrica3"
   ]
  },
  {
   "cell_type": "code",
   "execution_count": 11,
   "metadata": {},
   "outputs": [
    {
     "data": {
      "text/html": [
       "<div>\n",
       "<style scoped>\n",
       "    .dataframe tbody tr th:only-of-type {\n",
       "        vertical-align: middle;\n",
       "    }\n",
       "\n",
       "    .dataframe tbody tr th {\n",
       "        vertical-align: top;\n",
       "    }\n",
       "\n",
       "    .dataframe thead th {\n",
       "        text-align: right;\n",
       "    }\n",
       "</style>\n",
       "<table border=\"1\" class=\"dataframe\">\n",
       "  <thead>\n",
       "    <tr style=\"text-align: right;\">\n",
       "      <th></th>\n",
       "      <th>mae</th>\n",
       "      <th>mse</th>\n",
       "      <th>rmse</th>\n",
       "      <th>mape</th>\n",
       "      <th>maape</th>\n",
       "      <th>wmape</th>\n",
       "      <th>mmape</th>\n",
       "      <th>smape</th>\n",
       "      <th>r2</th>\n",
       "    </tr>\n",
       "  </thead>\n",
       "  <tbody>\n",
       "    <tr>\n",
       "      <th>0</th>\n",
       "      <td>0.9027</td>\n",
       "      <td>1.2493</td>\n",
       "      <td>1.1177</td>\n",
       "      <td>0.1347</td>\n",
       "      <td>0.1324</td>\n",
       "      <td>0.1203</td>\n",
       "      <td>0.1167</td>\n",
       "      <td>0.1303</td>\n",
       "      <td>0.6667</td>\n",
       "    </tr>\n",
       "  </tbody>\n",
       "</table>\n",
       "</div>"
      ],
      "text/plain": [
       "      mae     mse    rmse    mape   maape   wmape   mmape   smape      r2\n",
       "0  0.9027  1.2493  1.1177  0.1347  0.1324  0.1203  0.1167  0.1303  0.6667"
      ]
     },
     "execution_count": 11,
     "metadata": {},
     "output_type": "execute_result"
    }
   ],
   "source": [
    "df4=pd.DataFrame(\n",
    "    {\n",
    "        \"y\":df.loc[df['grupo']==\"Grupo_4\"].y,\n",
    "        \"yhat\": reg4.predict(np.array(df.loc[df['grupo']==\"Grupo_4\"].x).reshape(-1, 1)).flatten()\n",
    "        }\n",
    ")\n",
    "metric4 = summary_metrics(df4)\n",
    "metric4['r2'] = round (r2_score(df.loc[df['grupo']==\"Grupo_4\"].y,reg2.predict(np.array(df.loc[df['grupo']==\"Grupo_4\"].x).reshape(-1, 1)).flatten()),4)\n",
    "metric4"
   ]
  },
  {
   "cell_type": "markdown",
   "metadata": {},
   "source": [
    "todos los modelos  tienen un coeficiente de determinacion muy similar pero no muy alto por lo que el modelo regresion lineal solo no es una buena prediccion en ninguno de los grupos. Otro indicio  de que el modelo no es el mejor es  notar que algunas metricas tienen  valores mayores a 1 en todos los grupos. habra que buscar mejores formas de modelar la estimacion."
   ]
  },
  {
   "cell_type": "markdown",
   "metadata": {},
   "source": [
    "# 5.-"
   ]
  },
  {
   "cell_type": "code",
   "execution_count": 12,
   "metadata": {},
   "outputs": [],
   "source": [
    "from sklearn.preprocessing import PolynomialFeatures\n",
    "from sklearn.model_selection import train_test_split\n",
    "from sklearn.pipeline import make_pipeline"
   ]
  },
  {
   "cell_type": "markdown",
   "metadata": {},
   "source": [
    "el ajuste para el primer modelo no sabria mejorarlo porque los datos estan muy dispersos y no veo una relacion evidente, se podria hacer un modelo mas robusto pero no seria muy preciso ignorar mas datos en una base de datos tan pequeña"
   ]
  },
  {
   "cell_type": "code",
   "execution_count": 13,
   "metadata": {},
   "outputs": [
    {
     "data": {
      "image/png": "[encoded data removed]",
      "text/plain": [
       "<Figure size 842.4x595.44 with 1 Axes>"
      ]
     },
     "metadata": {},
     "output_type": "display_data"
    },
    {
     "data": {
      "text/html": [
       "<div>\n",
       "<style scoped>\n",
       "    .dataframe tbody tr th:only-of-type {\n",
       "        vertical-align: middle;\n",
       "    }\n",
       "\n",
       "    .dataframe tbody tr th {\n",
       "        vertical-align: top;\n",
       "    }\n",
       "\n",
       "    .dataframe thead th {\n",
       "        text-align: right;\n",
       "    }\n",
       "</style>\n",
       "<table border=\"1\" class=\"dataframe\">\n",
       "  <thead>\n",
       "    <tr style=\"text-align: right;\">\n",
       "      <th></th>\n",
       "      <th>mae</th>\n",
       "      <th>mse</th>\n",
       "      <th>rmse</th>\n",
       "      <th>mape</th>\n",
       "      <th>maape</th>\n",
       "      <th>wmape</th>\n",
       "      <th>mmape</th>\n",
       "      <th>smape</th>\n",
       "      <th>r2</th>\n",
       "    </tr>\n",
       "  </thead>\n",
       "  <tbody>\n",
       "    <tr>\n",
       "      <th>0</th>\n",
       "      <td>0.0012</td>\n",
       "      <td>0.0</td>\n",
       "      <td>0.0014</td>\n",
       "      <td>0.0002</td>\n",
       "      <td>0.0002</td>\n",
       "      <td>0.0002</td>\n",
       "      <td>0.0001</td>\n",
       "      <td>0.0002</td>\n",
       "      <td>1.0</td>\n",
       "    </tr>\n",
       "  </tbody>\n",
       "</table>\n",
       "</div>"
      ],
      "text/plain": [
       "      mae  mse    rmse    mape   maape   wmape   mmape   smape   r2\n",
       "0  0.0012  0.0  0.0014  0.0002  0.0002  0.0002  0.0001  0.0002  1.0"
      ]
     },
     "execution_count": 13,
     "metadata": {},
     "output_type": "execute_result"
    }
   ],
   "source": [
    "reg = make_pipeline(PolynomialFeatures(2),LinearRegression()).fit(np.array(df.loc[df[\"grupo\"]==\"Grupo_2\"].x).reshape(-1, 1),np.array(df.loc[df[\"grupo\"]==\"Grupo_2\"].y).reshape(-1, 1))\n",
    "plt.figure()\n",
    "plt.scatter(np.array(df.loc[df[\"grupo\"]==\"Grupo_2\"].x).reshape(-1, 1),np.array(df.loc[df[\"grupo\"]==\"Grupo_2\"].y).reshape(-1, 1))\n",
    "X_seq = np.linspace(0,20).reshape(-1,1)\n",
    "plt.plot(X_seq,reg.predict(X_seq))\n",
    "plt.show()\n",
    "\n",
    "df4=pd.DataFrame(\n",
    "    {\n",
    "        \"y\":df.loc[df['grupo']==\"Grupo_2\"].y,\n",
    "        \"yhat\": reg.predict(np.array(df.loc[df['grupo']==\"Grupo_2\"].x).reshape(-1, 1)).flatten()\n",
    "        }\n",
    ")\n",
    "metric4 = summary_metrics(df4)\n",
    "metric4['r2'] = round (r2_score(df.loc[df['grupo']==\"Grupo_2\"].y,reg.predict(np.array(df.loc[df['grupo']==\"Grupo_2\"].x).reshape(-1, 1)).flatten()),4)\n",
    "metric4"
   ]
  },
  {
   "cell_type": "markdown",
   "metadata": {},
   "source": [
    "con este grafico intui que una estimacion polinomial seria mas apropiadas y podemosnotar que es correcto ya que las metras son muy bajas, la estimacion grafica muy bien los puntos y r2 es igual a 1. muy ideal"
   ]
  },
  {
   "cell_type": "code",
   "execution_count": 14,
   "metadata": {},
   "outputs": [
    {
     "data": {
      "text/html": [
       "<div>\n",
       "<style scoped>\n",
       "    .dataframe tbody tr th:only-of-type {\n",
       "        vertical-align: middle;\n",
       "    }\n",
       "\n",
       "    .dataframe tbody tr th {\n",
       "        vertical-align: top;\n",
       "    }\n",
       "\n",
       "    .dataframe thead th {\n",
       "        text-align: right;\n",
       "    }\n",
       "</style>\n",
       "<table border=\"1\" class=\"dataframe\">\n",
       "  <thead>\n",
       "    <tr style=\"text-align: right;\">\n",
       "      <th></th>\n",
       "      <th>x</th>\n",
       "      <th>y</th>\n",
       "      <th>grupo</th>\n",
       "    </tr>\n",
       "  </thead>\n",
       "  <tbody>\n",
       "    <tr>\n",
       "      <th>22</th>\n",
       "      <td>10</td>\n",
       "      <td>7.46</td>\n",
       "      <td>Grupo_3</td>\n",
       "    </tr>\n",
       "    <tr>\n",
       "      <th>23</th>\n",
       "      <td>8</td>\n",
       "      <td>6.77</td>\n",
       "      <td>Grupo_3</td>\n",
       "    </tr>\n",
       "    <tr>\n",
       "      <th>25</th>\n",
       "      <td>9</td>\n",
       "      <td>7.11</td>\n",
       "      <td>Grupo_3</td>\n",
       "    </tr>\n",
       "    <tr>\n",
       "      <th>26</th>\n",
       "      <td>11</td>\n",
       "      <td>7.81</td>\n",
       "      <td>Grupo_3</td>\n",
       "    </tr>\n",
       "    <tr>\n",
       "      <th>27</th>\n",
       "      <td>14</td>\n",
       "      <td>8.84</td>\n",
       "      <td>Grupo_3</td>\n",
       "    </tr>\n",
       "    <tr>\n",
       "      <th>28</th>\n",
       "      <td>6</td>\n",
       "      <td>6.08</td>\n",
       "      <td>Grupo_3</td>\n",
       "    </tr>\n",
       "    <tr>\n",
       "      <th>29</th>\n",
       "      <td>4</td>\n",
       "      <td>5.39</td>\n",
       "      <td>Grupo_3</td>\n",
       "    </tr>\n",
       "    <tr>\n",
       "      <th>30</th>\n",
       "      <td>12</td>\n",
       "      <td>8.15</td>\n",
       "      <td>Grupo_3</td>\n",
       "    </tr>\n",
       "    <tr>\n",
       "      <th>31</th>\n",
       "      <td>7</td>\n",
       "      <td>6.42</td>\n",
       "      <td>Grupo_3</td>\n",
       "    </tr>\n",
       "    <tr>\n",
       "      <th>32</th>\n",
       "      <td>5</td>\n",
       "      <td>5.73</td>\n",
       "      <td>Grupo_3</td>\n",
       "    </tr>\n",
       "  </tbody>\n",
       "</table>\n",
       "</div>"
      ],
      "text/plain": [
       "     x     y    grupo\n",
       "22  10  7.46  Grupo_3\n",
       "23   8  6.77  Grupo_3\n",
       "25   9  7.11  Grupo_3\n",
       "26  11  7.81  Grupo_3\n",
       "27  14  8.84  Grupo_3\n",
       "28   6  6.08  Grupo_3\n",
       "29   4  5.39  Grupo_3\n",
       "30  12  8.15  Grupo_3\n",
       "31   7  6.42  Grupo_3\n",
       "32   5  5.73  Grupo_3"
      ]
     },
     "execution_count": 14,
     "metadata": {},
     "output_type": "execute_result"
    }
   ],
   "source": [
    "df_3=df.loc[df['grupo']==\"Grupo_3\"]\n",
    "df_3 = df_3[df_3.y < 10]\n",
    "df_3"
   ]
  },
  {
   "cell_type": "code",
   "execution_count": 15,
   "metadata": {},
   "outputs": [
    {
     "data": {
      "text/html": [
       "<div>\n",
       "<style scoped>\n",
       "    .dataframe tbody tr th:only-of-type {\n",
       "        vertical-align: middle;\n",
       "    }\n",
       "\n",
       "    .dataframe tbody tr th {\n",
       "        vertical-align: top;\n",
       "    }\n",
       "\n",
       "    .dataframe thead th {\n",
       "        text-align: right;\n",
       "    }\n",
       "</style>\n",
       "<table border=\"1\" class=\"dataframe\">\n",
       "  <thead>\n",
       "    <tr style=\"text-align: right;\">\n",
       "      <th></th>\n",
       "      <th>mae</th>\n",
       "      <th>mse</th>\n",
       "      <th>rmse</th>\n",
       "      <th>mape</th>\n",
       "      <th>maape</th>\n",
       "      <th>wmape</th>\n",
       "      <th>mmape</th>\n",
       "      <th>smape</th>\n",
       "      <th>r2</th>\n",
       "    </tr>\n",
       "  </thead>\n",
       "  <tbody>\n",
       "    <tr>\n",
       "      <th>0</th>\n",
       "      <td>0.0023</td>\n",
       "      <td>0.0</td>\n",
       "      <td>0.0028</td>\n",
       "      <td>0.0003</td>\n",
       "      <td>0.0003</td>\n",
       "      <td>0.0003</td>\n",
       "      <td>0.0003</td>\n",
       "      <td>0.0003</td>\n",
       "      <td>1.0</td>\n",
       "    </tr>\n",
       "  </tbody>\n",
       "</table>\n",
       "</div>"
      ],
      "text/plain": [
       "      mae  mse    rmse    mape   maape   wmape   mmape   smape   r2\n",
       "0  0.0023  0.0  0.0028  0.0003  0.0003  0.0003  0.0003  0.0003  1.0"
      ]
     },
     "execution_count": 15,
     "metadata": {},
     "output_type": "execute_result"
    }
   ],
   "source": [
    "reg6 = LinearRegression().fit(np.array(df_3.x).reshape(-1, 1), np.array(df_3.y).reshape(-1, 1))\n",
    "df6=pd.DataFrame(\n",
    "    {\n",
    "        \"y\":df_3.y,\n",
    "        \"yhat\": reg6.predict(np.array(df_3.x).reshape(-1, 1)).flatten()\n",
    "        }\n",
    ")\n",
    "metrica3=summary_metrics(df6)\n",
    "metrica3['r2'] = round (r2_score(df_3.y,reg6.predict(np.array(df_3.x).reshape(-1, 1)).flatten()),4)\n",
    "metrica3"
   ]
  },
  {
   "cell_type": "code",
   "execution_count": 16,
   "metadata": {},
   "outputs": [
    {
     "data": {
      "text/plain": [
       "<seaborn.axisgrid.FacetGrid at 0x1c5f613efd0>"
      ]
     },
     "execution_count": 16,
     "metadata": {},
     "output_type": "execute_result"
    },
    {
     "data": {
      "image/png": "[encoded data removed]",
      "text/plain": [
       "<Figure size 360x360 with 1 Axes>"
      ]
     },
     "metadata": {},
     "output_type": "display_data"
    }
   ],
   "source": [
    "sns.lmplot(x=\"x\", y=\"y\",data=df_3)"
   ]
  },
  {
   "cell_type": "markdown",
   "metadata": {},
   "source": [
    "en estos datos vimos un punto outliner pero el resto de los datos se notan bastante lineal por lo que eliminamos ese valor y notamos que nuestro modelo pasa a ser muy preciso, con r2 igual a 1, metricas bajas y una grafica muy precisa."
   ]
  },
  {
   "cell_type": "code",
   "execution_count": 17,
   "metadata": {},
   "outputs": [
    {
     "data": {
      "text/html": [
       "<div>\n",
       "<style scoped>\n",
       "    .dataframe tbody tr th:only-of-type {\n",
       "        vertical-align: middle;\n",
       "    }\n",
       "\n",
       "    .dataframe tbody tr th {\n",
       "        vertical-align: top;\n",
       "    }\n",
       "\n",
       "    .dataframe thead th {\n",
       "        text-align: right;\n",
       "    }\n",
       "</style>\n",
       "<table border=\"1\" class=\"dataframe\">\n",
       "  <thead>\n",
       "    <tr style=\"text-align: right;\">\n",
       "      <th></th>\n",
       "      <th>mae</th>\n",
       "      <th>mse</th>\n",
       "      <th>rmse</th>\n",
       "      <th>mape</th>\n",
       "      <th>maape</th>\n",
       "      <th>wmape</th>\n",
       "      <th>mmape</th>\n",
       "      <th>smape</th>\n",
       "      <th>r2</th>\n",
       "    </tr>\n",
       "  </thead>\n",
       "  <tbody>\n",
       "    <tr>\n",
       "      <th>0</th>\n",
       "      <td>0.0067</td>\n",
       "      <td>0.0001</td>\n",
       "      <td>0.008</td>\n",
       "      <td>0.0009</td>\n",
       "      <td>0.0009</td>\n",
       "      <td>0.0008</td>\n",
       "      <td>0.0008</td>\n",
       "      <td>0.0009</td>\n",
       "      <td>1.0</td>\n",
       "    </tr>\n",
       "  </tbody>\n",
       "</table>\n",
       "</div>"
      ],
      "text/plain": [
       "      mae     mse   rmse    mape   maape   wmape   mmape   smape   r2\n",
       "0  0.0067  0.0001  0.008  0.0009  0.0009  0.0008  0.0008  0.0009  1.0"
      ]
     },
     "execution_count": 17,
     "metadata": {},
     "output_type": "execute_result"
    }
   ],
   "source": [
    "reg6 = LinearRegression().fit(np.array(df_3.y).reshape(-1, 1), np.array(df_3.x).reshape(-1, 1))\n",
    "df6=pd.DataFrame(\n",
    "    {\n",
    "        \"y\":df_3.x,\n",
    "        \"yhat\": reg6.predict(np.array(df_3.y).reshape(-1, 1)).flatten()\n",
    "        }\n",
    ")\n",
    "metrica3=summary_metrics(df6)\n",
    "metrica3['r2'] = round (r2_score(df_3.x,reg6.predict(np.array(df_3.y).reshape(-1, 1)).flatten()),4)\n",
    "metrica3"
   ]
  },
  {
   "cell_type": "code",
   "execution_count": 18,
   "metadata": {},
   "outputs": [
    {
     "data": {
      "text/plain": [
       "<seaborn.axisgrid.FacetGrid at 0x1c5f60e96d0>"
      ]
     },
     "execution_count": 18,
     "metadata": {},
     "output_type": "execute_result"
    },
    {
     "data": {
      "image/png": "[encoded data removed]",
      "text/plain": [
       "<Figure size 360x360 with 1 Axes>"
      ]
     },
     "metadata": {},
     "output_type": "display_data"
    }
   ],
   "source": [
    "sns.lmplot(x=\"y\", y=\"x\",data=df_3)"
   ]
  },
  {
   "cell_type": "markdown",
   "metadata": {},
   "source": [
    "para este modelo cambiamos los valores de x por los de y, ya que se concentraban muchos valores iguales en x y en y aumentaban pregresivamente. este modelo tiene r2 igual a 1 y se nota que es muy preciso para estimar estos datos"
   ]
  }
 ],
 "metadata": {
  "kernelspec": {
   "display_name": "Python 3",
   "language": "python",
   "name": "python3"
  },
  "language_info": {
   "codemirror_mode": {
    "name": "ipython",
    "version": 3
   },
   "file_extension": ".py",
   "mimetype": "text/x-python",
   "name": "python",
   "nbconvert_exporter": "python",
   "pygments_lexer": "ipython3",
   "version": "3.8.8"
  }
 },
 "nbformat": 4,
 "nbformat_minor": 4
}
