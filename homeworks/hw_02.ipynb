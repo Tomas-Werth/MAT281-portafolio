{
 "cells": [
  {
   "cell_type": "markdown",
   "metadata": {},
   "source": [
    "# Tarea N°02\n",
    "\n",
    "## Instrucciones\n",
    "\n",
    "1.- Completa tus datos personales (nombre y rol USM) en siguiente celda.\n",
    "\n",
    "\n",
    "* __Nombre__:\n",
    "\n",
    "* __Rol__:\n",
    "\n",
    "2.- Debes _pushear_ este archivo con tus cambios a tu repositorio personal del curso, incluyendo datos, imágenes, scripts, etc.\n",
    "\n",
    "3.- Se evaluará:\n",
    "    - Soluciones\n",
    "    - Código\n",
    "    - Que Binder esté bien configurado.\n",
    "    - Al presionar  `Kernel -> Restart Kernel and Run All Cells` deben ejecutarse todas las celdas sin error."
   ]
  },
  {
   "cell_type": "markdown",
   "metadata": {},
   "source": [
    "## I.- Clasificación de dígitos\n",
    "\n",
    "\n",
    "En este laboratorio realizaremos el trabajo de reconocer un dígito a partir de una imagen.\n"
   ]
  },
  {
   "cell_type": "markdown",
   "metadata": {},
   "source": [
    "![rgb](https://www.wolfram.com/language/11/neural-networks/assets.en/digit-classification/smallthumb_1.png)"
   ]
  },
  {
   "cell_type": "markdown",
   "metadata": {},
   "source": [
    "El objetivo es a partir de los datos, hacer la mejor predicción de cada imagen. Para ellos es necesario realizar los pasos clásicos de un proyecto de _Machine Learning_, como estadística descriptiva, visualización y preprocesamiento. \n",
    "\n",
    "* Se solicita ajustar al menos tres modelos de clasificación:\n",
    " * Regresión logística\n",
    " * K-Nearest Neighbours \n",
    " * Uno o más algoritmos a su elección [link](https://scikit-learn.org/stable/supervised_learning.html#supervised-learning) (es obligación escoger un _estimator_ que tenga por lo menos un hiperparámetro). \n",
    " \n",
    " \n",
    "* En los modelos que posean hiperparámetros es mandatorio buscar el/los mejores con alguna técnica disponible en `scikit-learn` ([ver más](https://scikit-learn.org/stable/modules/grid_search.html#tuning-the-hyper-parameters-of-an-estimator)).\n",
    "* Para cada modelo, se debe realizar _Cross Validation_ con 10 _folds_ utilizando los datos de entrenamiento con tal de determinar un intervalo de confianza para el _score_ del modelo.\n",
    "* Realizar una predicción con cada uno de los tres modelos con los datos _test_ y obtener el _score_. \n",
    "* Analizar sus métricas de error (**accuracy**, **precision**, **recall**, **f-score**)\n",
    "\n"
   ]
  },
  {
   "cell_type": "markdown",
   "metadata": {},
   "source": [
    "### Exploración de los datos\n",
    "A continuación se carga el conjunto de datos a utilizar, a través del sub-módulo `datasets` de `sklearn`."
   ]
  },
  {
   "cell_type": "code",
   "execution_count": 1,
   "metadata": {},
   "outputs": [],
   "source": [
    "import numpy as np\n",
    "import pandas as pd\n",
    "from sklearn import datasets\n",
    "import matplotlib.pyplot as plt\n",
    "from matplotlib.pyplot import subplots, show\n",
    "\n",
    "from sklearn.model_selection import train_test_split\n",
    "\n",
    "from sklearn.model_selection import GridSearchCV\n",
    "from sklearn.linear_model import LogisticRegression\n",
    "\n",
    "from sklearn.metrics import confusion_matrix\n",
    "from sklearn.metrics import plot_confusion_matrix\n",
    "from sklearn.metrics import classification_report\n",
    "\n",
    "from sklearn.neighbors import KNeighborsClassifier\n",
    "\n",
    "from sklearn import svm\n",
    "from sklearn.svm import SVC\n",
    "\n",
    "import seaborn as sns\n",
    "\n",
    "from sklearn.model_selection import cross_val_score\n",
    "\n",
    "from sklearn.datasets import load_digits\n",
    "from sklearn.model_selection import validation_curve\n",
    "\n",
    "from sklearn.metrics import roc_curve, auc\n",
    "from sklearn.multiclass import OneVsRestClassifier\n",
    "from sklearn.svm import LinearSVC\n",
    "from sklearn.preprocessing import label_binarize\n",
    "\n",
    "from sklearn.feature_selection import SelectKBest\n",
    "from sklearn.feature_selection import f_classif\n",
    "\n",
    "from sklearn.decomposition import PCA\n",
    "\n",
    "from sklearn.preprocessing import LabelEncoder\n",
    "\n",
    "import missingno as msno\n",
    "\n",
    "from sklearn import model_selection\n",
    "from sklearn.linear_model import LinearRegression\n",
    "from sklearn.linear_model import Ridge\n",
    "from sklearn.linear_model import Lasso\n",
    "from sklearn.linear_model import ElasticNet\n",
    "from sklearn.tree import DecisionTreeRegressor\n",
    "from sklearn.svm import SVR\n",
    "from sklearn.ensemble import RandomForestRegressor\n",
    "from sklearn.metrics import r2_score\n",
    "from sklearn.model_selection import train_test_split\n",
    "from sklearn.metrics import mean_squared_error\n",
    "from math import sqrt\n",
    "\n",
    "from sklearn.preprocessing import scale \n",
    "from sklearn.linear_model import Ridge, RidgeCV, Lasso, LassoCV\n",
    "from sklearn.metrics import mean_squared_error\n",
    "from sklearn.linear_model import ElasticNetCV\n",
    "\n",
    "\n",
    "import warnings\n",
    "warnings.filterwarnings(\"ignore\")\n",
    "\n",
    "%matplotlib inline"
   ]
  },
  {
   "cell_type": "code",
   "execution_count": 2,
   "metadata": {},
   "outputs": [
    {
     "name": "stdout",
     "output_type": "stream",
     "text": [
      ".. _digits_dataset:\n",
      "\n",
      "Optical recognition of handwritten digits dataset\n",
      "--------------------------------------------------\n",
      "\n",
      "**Data Set Characteristics:**\n",
      "\n",
      "    :Number of Instances: 1797\n",
      "    :Number of Attributes: 64\n",
      "    :Attribute Information: 8x8 image of integer pixels in the range 0..16.\n",
      "    :Missing Attribute Values: None\n",
      "    :Creator: E. Alpaydin (alpaydin '@' boun.edu.tr)\n",
      "    :Date: July; 1998\n",
      "\n",
      "This is a copy of the test set of the UCI ML hand-written digits datasets\n",
      "https://archive.ics.uci.edu/ml/datasets/Optical+Recognition+of+Handwritten+Digits\n",
      "\n",
      "The data set contains images of hand-written digits: 10 classes where\n",
      "each class refers to a digit.\n",
      "\n",
      "Preprocessing programs made available by NIST were used to extract\n",
      "normalized bitmaps of handwritten digits from a preprinted form. From a\n",
      "total of 43 people, 30 contributed to the training set and different 13\n",
      "to the test set. 32x32 bitmaps are divided into nonoverlapping blocks of\n",
      "4x4 and the number of on pixels are counted in each block. This generates\n",
      "an input matrix of 8x8 where each element is an integer in the range\n",
      "0..16. This reduces dimensionality and gives invariance to small\n",
      "distortions.\n",
      "\n",
      "For info on NIST preprocessing routines, see M. D. Garris, J. L. Blue, G.\n",
      "T. Candela, D. L. Dimmick, J. Geist, P. J. Grother, S. A. Janet, and C.\n",
      "L. Wilson, NIST Form-Based Handprint Recognition System, NISTIR 5469,\n",
      "1994.\n",
      "\n",
      ".. topic:: References\n",
      "\n",
      "  - C. Kaynak (1995) Methods of Combining Multiple Classifiers and Their\n",
      "    Applications to Handwritten Digit Recognition, MSc Thesis, Institute of\n",
      "    Graduate Studies in Science and Engineering, Bogazici University.\n",
      "  - E. Alpaydin, C. Kaynak (1998) Cascading Classifiers, Kybernetika.\n",
      "  - Ken Tang and Ponnuthurai N. Suganthan and Xi Yao and A. Kai Qin.\n",
      "    Linear dimensionalityreduction using relevance weighted LDA. School of\n",
      "    Electrical and Electronic Engineering Nanyang Technological University.\n",
      "    2005.\n",
      "  - Claudio Gentile. A New Approximate Maximal Margin Classification\n",
      "    Algorithm. NIPS. 2000.\n",
      "\n"
     ]
    }
   ],
   "source": [
    "digits_dict = datasets.load_digits()\n",
    "print(digits_dict[\"DESCR\"])"
   ]
  },
  {
   "cell_type": "code",
   "execution_count": 3,
   "metadata": {},
   "outputs": [
    {
     "data": {
      "text/plain": [
       "dict_keys(['data', 'target', 'frame', 'feature_names', 'target_names', 'images', 'DESCR'])"
      ]
     },
     "execution_count": 3,
     "metadata": {},
     "output_type": "execute_result"
    }
   ],
   "source": [
    "digits_dict.keys()"
   ]
  },
  {
   "cell_type": "code",
   "execution_count": 4,
   "metadata": {},
   "outputs": [
    {
     "data": {
      "text/plain": [
       "array([0, 1, 2, ..., 8, 9, 8])"
      ]
     },
     "execution_count": 4,
     "metadata": {},
     "output_type": "execute_result"
    }
   ],
   "source": [
    "digits_dict[\"target\"]"
   ]
  },
  {
   "cell_type": "markdown",
   "metadata": {},
   "source": [
    "A continuación se crea dataframe declarado como `digits` con los datos de `digits_dict` tal que tenga 65 columnas, las 6 primeras a la representación de la imagen en escala de grises (0-blanco, 255-negro) y la última correspondiente al dígito (`target`) con el nombre _target_."
   ]
  },
  {
   "cell_type": "code",
   "execution_count": 5,
   "metadata": {},
   "outputs": [
    {
     "data": {
      "text/html": [
       "<div>\n",
       "<style scoped>\n",
       "    .dataframe tbody tr th:only-of-type {\n",
       "        vertical-align: middle;\n",
       "    }\n",
       "\n",
       "    .dataframe tbody tr th {\n",
       "        vertical-align: top;\n",
       "    }\n",
       "\n",
       "    .dataframe thead th {\n",
       "        text-align: right;\n",
       "    }\n",
       "</style>\n",
       "<table border=\"1\" class=\"dataframe\">\n",
       "  <thead>\n",
       "    <tr style=\"text-align: right;\">\n",
       "      <th></th>\n",
       "      <th>c00</th>\n",
       "      <th>c01</th>\n",
       "      <th>c02</th>\n",
       "      <th>c03</th>\n",
       "      <th>c04</th>\n",
       "      <th>c05</th>\n",
       "      <th>c06</th>\n",
       "      <th>c07</th>\n",
       "      <th>c08</th>\n",
       "      <th>c09</th>\n",
       "      <th>...</th>\n",
       "      <th>c55</th>\n",
       "      <th>c56</th>\n",
       "      <th>c57</th>\n",
       "      <th>c58</th>\n",
       "      <th>c59</th>\n",
       "      <th>c60</th>\n",
       "      <th>c61</th>\n",
       "      <th>c62</th>\n",
       "      <th>c63</th>\n",
       "      <th>target</th>\n",
       "    </tr>\n",
       "  </thead>\n",
       "  <tbody>\n",
       "    <tr>\n",
       "      <th>0</th>\n",
       "      <td>0</td>\n",
       "      <td>0</td>\n",
       "      <td>5</td>\n",
       "      <td>13</td>\n",
       "      <td>9</td>\n",
       "      <td>1</td>\n",
       "      <td>0</td>\n",
       "      <td>0</td>\n",
       "      <td>0</td>\n",
       "      <td>0</td>\n",
       "      <td>...</td>\n",
       "      <td>0</td>\n",
       "      <td>0</td>\n",
       "      <td>0</td>\n",
       "      <td>6</td>\n",
       "      <td>13</td>\n",
       "      <td>10</td>\n",
       "      <td>0</td>\n",
       "      <td>0</td>\n",
       "      <td>0</td>\n",
       "      <td>0</td>\n",
       "    </tr>\n",
       "    <tr>\n",
       "      <th>1</th>\n",
       "      <td>0</td>\n",
       "      <td>0</td>\n",
       "      <td>0</td>\n",
       "      <td>12</td>\n",
       "      <td>13</td>\n",
       "      <td>5</td>\n",
       "      <td>0</td>\n",
       "      <td>0</td>\n",
       "      <td>0</td>\n",
       "      <td>0</td>\n",
       "      <td>...</td>\n",
       "      <td>0</td>\n",
       "      <td>0</td>\n",
       "      <td>0</td>\n",
       "      <td>0</td>\n",
       "      <td>11</td>\n",
       "      <td>16</td>\n",
       "      <td>10</td>\n",
       "      <td>0</td>\n",
       "      <td>0</td>\n",
       "      <td>1</td>\n",
       "    </tr>\n",
       "    <tr>\n",
       "      <th>2</th>\n",
       "      <td>0</td>\n",
       "      <td>0</td>\n",
       "      <td>0</td>\n",
       "      <td>4</td>\n",
       "      <td>15</td>\n",
       "      <td>12</td>\n",
       "      <td>0</td>\n",
       "      <td>0</td>\n",
       "      <td>0</td>\n",
       "      <td>0</td>\n",
       "      <td>...</td>\n",
       "      <td>0</td>\n",
       "      <td>0</td>\n",
       "      <td>0</td>\n",
       "      <td>0</td>\n",
       "      <td>3</td>\n",
       "      <td>11</td>\n",
       "      <td>16</td>\n",
       "      <td>9</td>\n",
       "      <td>0</td>\n",
       "      <td>2</td>\n",
       "    </tr>\n",
       "    <tr>\n",
       "      <th>3</th>\n",
       "      <td>0</td>\n",
       "      <td>0</td>\n",
       "      <td>7</td>\n",
       "      <td>15</td>\n",
       "      <td>13</td>\n",
       "      <td>1</td>\n",
       "      <td>0</td>\n",
       "      <td>0</td>\n",
       "      <td>0</td>\n",
       "      <td>8</td>\n",
       "      <td>...</td>\n",
       "      <td>0</td>\n",
       "      <td>0</td>\n",
       "      <td>0</td>\n",
       "      <td>7</td>\n",
       "      <td>13</td>\n",
       "      <td>13</td>\n",
       "      <td>9</td>\n",
       "      <td>0</td>\n",
       "      <td>0</td>\n",
       "      <td>3</td>\n",
       "    </tr>\n",
       "    <tr>\n",
       "      <th>4</th>\n",
       "      <td>0</td>\n",
       "      <td>0</td>\n",
       "      <td>0</td>\n",
       "      <td>1</td>\n",
       "      <td>11</td>\n",
       "      <td>0</td>\n",
       "      <td>0</td>\n",
       "      <td>0</td>\n",
       "      <td>0</td>\n",
       "      <td>0</td>\n",
       "      <td>...</td>\n",
       "      <td>0</td>\n",
       "      <td>0</td>\n",
       "      <td>0</td>\n",
       "      <td>0</td>\n",
       "      <td>2</td>\n",
       "      <td>16</td>\n",
       "      <td>4</td>\n",
       "      <td>0</td>\n",
       "      <td>0</td>\n",
       "      <td>4</td>\n",
       "    </tr>\n",
       "  </tbody>\n",
       "</table>\n",
       "<p>5 rows × 65 columns</p>\n",
       "</div>"
      ],
      "text/plain": [
       "   c00  c01  c02  c03  c04  c05  c06  c07  c08  c09  ...  c55  c56  c57  c58  \\\n",
       "0    0    0    5   13    9    1    0    0    0    0  ...    0    0    0    6   \n",
       "1    0    0    0   12   13    5    0    0    0    0  ...    0    0    0    0   \n",
       "2    0    0    0    4   15   12    0    0    0    0  ...    0    0    0    0   \n",
       "3    0    0    7   15   13    1    0    0    0    8  ...    0    0    0    7   \n",
       "4    0    0    0    1   11    0    0    0    0    0  ...    0    0    0    0   \n",
       "\n",
       "   c59  c60  c61  c62  c63  target  \n",
       "0   13   10    0    0    0       0  \n",
       "1   11   16   10    0    0       1  \n",
       "2    3   11   16    9    0       2  \n",
       "3   13   13    9    0    0       3  \n",
       "4    2   16    4    0    0       4  \n",
       "\n",
       "[5 rows x 65 columns]"
      ]
     },
     "execution_count": 5,
     "metadata": {},
     "output_type": "execute_result"
    }
   ],
   "source": [
    "digits = (\n",
    "    pd.DataFrame(\n",
    "        digits_dict[\"data\"],\n",
    "    )\n",
    "    .rename(columns=lambda x: f\"c{x:02d}\")\n",
    "    .assign(target=digits_dict[\"target\"])\n",
    "    .astype(int)\n",
    ")\n",
    "\n",
    "digits.head()"
   ]
  },
  {
   "cell_type": "markdown",
   "metadata": {},
   "source": [
    "### Ejercicio 1\n",
    "**Análisis exploratorio:** Realiza tu análisis exploratorio, no debes olvidar nada! Recuerda, cada análisis debe responder una pregunta.\n",
    "\n",
    "Algunas sugerencias:\n",
    "\n",
    "* ¿Cómo se distribuyen los datos?\n",
    "* ¿Cuánta memoria estoy utilizando?\n",
    "* ¿Qué tipo de datos son?\n",
    "* ¿Cuántos registros por clase hay?\n",
    "* ¿Hay registros que no se correspondan con tu conocimiento previo de los datos?"
   ]
  },
  {
   "cell_type": "code",
   "execution_count": 6,
   "metadata": {},
   "outputs": [
    {
     "data": {
      "text/plain": [
       "(1797, 65)"
      ]
     },
     "execution_count": 6,
     "metadata": {},
     "output_type": "execute_result"
    }
   ],
   "source": [
    "digits.shape"
   ]
  },
  {
   "cell_type": "code",
   "execution_count": 7,
   "metadata": {},
   "outputs": [
    {
     "data": {
      "text/plain": [
       "c00       0\n",
       "c01       0\n",
       "c02       0\n",
       "c03       0\n",
       "c04       0\n",
       "         ..\n",
       "c60       0\n",
       "c61       0\n",
       "c62       0\n",
       "c63       0\n",
       "target    0\n",
       "Length: 65, dtype: int64"
      ]
     },
     "execution_count": 7,
     "metadata": {},
     "output_type": "execute_result"
    }
   ],
   "source": [
    "digits.isnull().sum(axis = 0)"
   ]
  },
  {
   "cell_type": "code",
   "execution_count": 8,
   "metadata": {},
   "outputs": [
    {
     "data": {
      "text/html": [
       "<div>\n",
       "<style scoped>\n",
       "    .dataframe tbody tr th:only-of-type {\n",
       "        vertical-align: middle;\n",
       "    }\n",
       "\n",
       "    .dataframe tbody tr th {\n",
       "        vertical-align: top;\n",
       "    }\n",
       "\n",
       "    .dataframe thead th {\n",
       "        text-align: right;\n",
       "    }\n",
       "</style>\n",
       "<table border=\"1\" class=\"dataframe\">\n",
       "  <thead>\n",
       "    <tr style=\"text-align: right;\">\n",
       "      <th></th>\n",
       "      <th>count</th>\n",
       "      <th>mean</th>\n",
       "      <th>std</th>\n",
       "      <th>min</th>\n",
       "      <th>25%</th>\n",
       "      <th>50%</th>\n",
       "      <th>75%</th>\n",
       "      <th>max</th>\n",
       "    </tr>\n",
       "  </thead>\n",
       "  <tbody>\n",
       "    <tr>\n",
       "      <th>c00</th>\n",
       "      <td>1797.0</td>\n",
       "      <td>0.000000</td>\n",
       "      <td>0.000000</td>\n",
       "      <td>0.0</td>\n",
       "      <td>0.0</td>\n",
       "      <td>0.0</td>\n",
       "      <td>0.0</td>\n",
       "      <td>0.0</td>\n",
       "    </tr>\n",
       "    <tr>\n",
       "      <th>c01</th>\n",
       "      <td>1797.0</td>\n",
       "      <td>0.303840</td>\n",
       "      <td>0.907192</td>\n",
       "      <td>0.0</td>\n",
       "      <td>0.0</td>\n",
       "      <td>0.0</td>\n",
       "      <td>0.0</td>\n",
       "      <td>8.0</td>\n",
       "    </tr>\n",
       "    <tr>\n",
       "      <th>c02</th>\n",
       "      <td>1797.0</td>\n",
       "      <td>5.204786</td>\n",
       "      <td>4.754826</td>\n",
       "      <td>0.0</td>\n",
       "      <td>1.0</td>\n",
       "      <td>4.0</td>\n",
       "      <td>9.0</td>\n",
       "      <td>16.0</td>\n",
       "    </tr>\n",
       "    <tr>\n",
       "      <th>c03</th>\n",
       "      <td>1797.0</td>\n",
       "      <td>11.835838</td>\n",
       "      <td>4.248842</td>\n",
       "      <td>0.0</td>\n",
       "      <td>10.0</td>\n",
       "      <td>13.0</td>\n",
       "      <td>15.0</td>\n",
       "      <td>16.0</td>\n",
       "    </tr>\n",
       "    <tr>\n",
       "      <th>c04</th>\n",
       "      <td>1797.0</td>\n",
       "      <td>11.848080</td>\n",
       "      <td>4.287388</td>\n",
       "      <td>0.0</td>\n",
       "      <td>10.0</td>\n",
       "      <td>13.0</td>\n",
       "      <td>15.0</td>\n",
       "      <td>16.0</td>\n",
       "    </tr>\n",
       "    <tr>\n",
       "      <th>...</th>\n",
       "      <td>...</td>\n",
       "      <td>...</td>\n",
       "      <td>...</td>\n",
       "      <td>...</td>\n",
       "      <td>...</td>\n",
       "      <td>...</td>\n",
       "      <td>...</td>\n",
       "      <td>...</td>\n",
       "    </tr>\n",
       "    <tr>\n",
       "      <th>c60</th>\n",
       "      <td>1797.0</td>\n",
       "      <td>11.809126</td>\n",
       "      <td>4.933947</td>\n",
       "      <td>0.0</td>\n",
       "      <td>10.0</td>\n",
       "      <td>14.0</td>\n",
       "      <td>16.0</td>\n",
       "      <td>16.0</td>\n",
       "    </tr>\n",
       "    <tr>\n",
       "      <th>c61</th>\n",
       "      <td>1797.0</td>\n",
       "      <td>6.764051</td>\n",
       "      <td>5.900623</td>\n",
       "      <td>0.0</td>\n",
       "      <td>0.0</td>\n",
       "      <td>6.0</td>\n",
       "      <td>12.0</td>\n",
       "      <td>16.0</td>\n",
       "    </tr>\n",
       "    <tr>\n",
       "      <th>c62</th>\n",
       "      <td>1797.0</td>\n",
       "      <td>2.067891</td>\n",
       "      <td>4.090548</td>\n",
       "      <td>0.0</td>\n",
       "      <td>0.0</td>\n",
       "      <td>0.0</td>\n",
       "      <td>2.0</td>\n",
       "      <td>16.0</td>\n",
       "    </tr>\n",
       "    <tr>\n",
       "      <th>c63</th>\n",
       "      <td>1797.0</td>\n",
       "      <td>0.364496</td>\n",
       "      <td>1.860122</td>\n",
       "      <td>0.0</td>\n",
       "      <td>0.0</td>\n",
       "      <td>0.0</td>\n",
       "      <td>0.0</td>\n",
       "      <td>16.0</td>\n",
       "    </tr>\n",
       "    <tr>\n",
       "      <th>target</th>\n",
       "      <td>1797.0</td>\n",
       "      <td>4.490818</td>\n",
       "      <td>2.865304</td>\n",
       "      <td>0.0</td>\n",
       "      <td>2.0</td>\n",
       "      <td>4.0</td>\n",
       "      <td>7.0</td>\n",
       "      <td>9.0</td>\n",
       "    </tr>\n",
       "  </tbody>\n",
       "</table>\n",
       "<p>65 rows × 8 columns</p>\n",
       "</div>"
      ],
      "text/plain": [
       "         count       mean       std  min   25%   50%   75%   max\n",
       "c00     1797.0   0.000000  0.000000  0.0   0.0   0.0   0.0   0.0\n",
       "c01     1797.0   0.303840  0.907192  0.0   0.0   0.0   0.0   8.0\n",
       "c02     1797.0   5.204786  4.754826  0.0   1.0   4.0   9.0  16.0\n",
       "c03     1797.0  11.835838  4.248842  0.0  10.0  13.0  15.0  16.0\n",
       "c04     1797.0  11.848080  4.287388  0.0  10.0  13.0  15.0  16.0\n",
       "...        ...        ...       ...  ...   ...   ...   ...   ...\n",
       "c60     1797.0  11.809126  4.933947  0.0  10.0  14.0  16.0  16.0\n",
       "c61     1797.0   6.764051  5.900623  0.0   0.0   6.0  12.0  16.0\n",
       "c62     1797.0   2.067891  4.090548  0.0   0.0   0.0   2.0  16.0\n",
       "c63     1797.0   0.364496  1.860122  0.0   0.0   0.0   0.0  16.0\n",
       "target  1797.0   4.490818  2.865304  0.0   2.0   4.0   7.0   9.0\n",
       "\n",
       "[65 rows x 8 columns]"
      ]
     },
     "execution_count": 8,
     "metadata": {},
     "output_type": "execute_result"
    }
   ],
   "source": [
    "digits.describe().T"
   ]
  },
  {
   "cell_type": "code",
   "execution_count": 9,
   "metadata": {},
   "outputs": [
    {
     "data": {
      "text/plain": [
       "array([0, 1, 2, 3, 4, 5, 6, 7, 8, 9])"
      ]
     },
     "execution_count": 9,
     "metadata": {},
     "output_type": "execute_result"
    }
   ],
   "source": [
    "digits[\"target\"].unique()"
   ]
  },
  {
   "cell_type": "code",
   "execution_count": 10,
   "metadata": {},
   "outputs": [
    {
     "data": {
      "text/plain": [
       "3    183\n",
       "1    182\n",
       "5    182\n",
       "4    181\n",
       "6    181\n",
       "9    180\n",
       "7    179\n",
       "0    178\n",
       "2    177\n",
       "8    174\n",
       "Name: target, dtype: int64"
      ]
     },
     "execution_count": 10,
     "metadata": {},
     "output_type": "execute_result"
    }
   ],
   "source": [
    "digits[\"target\"].value_counts()"
   ]
  },
  {
   "cell_type": "code",
   "execution_count": 11,
   "metadata": {},
   "outputs": [
    {
     "data": {
      "text/plain": [
       "<AxesSubplot:xlabel='target', ylabel='count'>"
      ]
     },
     "execution_count": 11,
     "metadata": {},
     "output_type": "execute_result"
    },
    {
     "data": {
      "image/png": "[encoded data removed]",
      "text/plain": [
       "<Figure size 432x288 with 1 Axes>"
      ]
     },
     "metadata": {
      "needs_background": "light"
     },
     "output_type": "display_data"
    }
   ],
   "source": [
    "sns.countplot(digits[\"target\"])"
   ]
  },
  {
   "cell_type": "code",
   "execution_count": null,
   "metadata": {},
   "outputs": [],
   "source": []
  },
  {
   "cell_type": "markdown",
   "metadata": {},
   "source": [
    "### Ejercicio 2\n",
    "**Visualización:** Para visualizar los datos utilizaremos el método `imshow` de `matplotlib`. Resulta necesario convertir el arreglo desde las dimensiones (1,64)  a (8,8) para que la imagen sea cuadrada y pueda distinguirse el dígito. Superpondremos además el label correspondiente al dígito, mediante el método `text`. Esto nos permitirá comparar la imagen generada con la etiqueta asociada a los valores. Realizaremos lo anterior para los primeros 25 datos del archivo."
   ]
  },
  {
   "cell_type": "code",
   "execution_count": 12,
   "metadata": {},
   "outputs": [
    {
     "data": {
      "text/plain": [
       "array([[ 0.,  0.,  5., 13.,  9.,  1.,  0.,  0.],\n",
       "       [ 0.,  0., 13., 15., 10., 15.,  5.,  0.],\n",
       "       [ 0.,  3., 15.,  2.,  0., 11.,  8.,  0.],\n",
       "       [ 0.,  4., 12.,  0.,  0.,  8.,  8.,  0.],\n",
       "       [ 0.,  5.,  8.,  0.,  0.,  9.,  8.,  0.],\n",
       "       [ 0.,  4., 11.,  0.,  1., 12.,  7.,  0.],\n",
       "       [ 0.,  2., 14.,  5., 10., 12.,  0.,  0.],\n",
       "       [ 0.,  0.,  6., 13., 10.,  0.,  0.,  0.]])"
      ]
     },
     "execution_count": 12,
     "metadata": {},
     "output_type": "execute_result"
    }
   ],
   "source": [
    "digits_dict[\"images\"][0]"
   ]
  },
  {
   "cell_type": "markdown",
   "metadata": {},
   "source": [
    "Visualiza imágenes de los dígitos utilizando la llave `images` de `digits_dict`. \n",
    "\n",
    "Sugerencia: Utiliza `plt.subplots` y el método `imshow`. Puedes hacer una grilla de varias imágenes al mismo tiempo!"
   ]
  },
  {
   "cell_type": "code",
   "execution_count": 13,
   "metadata": {},
   "outputs": [
    {
     "data": {
      "image/png": "[encoded data removed]",
      "text/plain": [
       "<Figure size 864x864 with 25 Axes>"
      ]
     },
     "metadata": {
      "needs_background": "light"
     },
     "output_type": "display_data"
    }
   ],
   "source": [
    "nx, ny = 5, 5\n",
    "fig, axs = plt.subplots(nx, ny, figsize=(12, 12))\n",
    "for i in range(1,26):\n",
    "    plt.subplot(5,5,i)\n",
    "    plt.imshow(digits_dict[\"images\"][i])"
   ]
  },
  {
   "cell_type": "markdown",
   "metadata": {},
   "source": [
    "### Ejercicio 3\n",
    "\n",
    "**Machine Learning**: En esta parte usted debe entrenar los distintos modelos escogidos desde la librería de `skelearn`. Para cada modelo, debe realizar los siguientes pasos:\n",
    "\n",
    "* **train-test** \n",
    " * Crear conjunto de entrenamiento y testeo (usted determine las proporciones adecuadas).\n",
    " * Imprimir por pantalla el largo del conjunto de entrenamiento y de testeo.\n",
    " \n",
    " \n",
    "* **modelo**:\n",
    " * Instanciar el modelo objetivo desde la librería sklearn.\n",
    " * *Hiper-parámetros*: Utiliza `sklearn.model_selection.GridSearchCV` para obtener la mejor estimación de los parámetros del modelo objetivo.\n",
    "\n",
    "\n",
    "\n",
    "\n",
    "* **Métricas**:\n",
    " * Graficar matriz de confusión.\n",
    " * Analizar métricas de error.\n",
    "\n",
    "\n",
    "\n",
    "__Preguntas a responder:__\n",
    "\n",
    "* ¿Cuál modelo es mejor basado en sus métricas?\n",
    "* ¿Cuál modelo demora menos tiempo en ajustarse?\n",
    "* ¿Qué modelo escoges?\n"
   ]
  },
  {
   "cell_type": "code",
   "execution_count": 14,
   "metadata": {},
   "outputs": [],
   "source": [
    "X = digits.drop(columns=\"target\").values\n",
    "y = digits[\"target\"].values"
   ]
  },
  {
   "cell_type": "code",
   "execution_count": 15,
   "metadata": {},
   "outputs": [],
   "source": [
    "X_train, X_test, y_train, y_test = train_test_split(X, y, test_size=0.30, random_state=40)"
   ]
  },
  {
   "cell_type": "markdown",
   "metadata": {},
   "source": [
    "## Regresion Logistica"
   ]
  },
  {
   "cell_type": "code",
   "execution_count": 16,
   "metadata": {},
   "outputs": [
    {
     "name": "stdout",
     "output_type": "stream",
     "text": [
      "Best: 0.956254 con {'C': 1, 'penalty': 'l2'}\n"
     ]
    }
   ],
   "source": [
    "parameters = {'penalty': ['l1', 'l2', 'elasticnet'], 'C':[1, 10]}\n",
    "reg = LogisticRegression()\n",
    "gs = GridSearchCV(reg, parameters)\n",
    "gs.fit(X_train, y_train)\n",
    "print(\"Best: %f con %s\" % (gs.best_score_, gs.best_params_))"
   ]
  },
  {
   "cell_type": "code",
   "execution_count": 17,
   "metadata": {},
   "outputs": [
    {
     "data": {
      "text/plain": [
       "LogisticRegression(C=1)"
      ]
     },
     "execution_count": 17,
     "metadata": {},
     "output_type": "execute_result"
    }
   ],
   "source": [
    "rlog = LogisticRegression(penalty=\"l2\",C=1)\n",
    "rlog.fit(X_train, y_train)"
   ]
  },
  {
   "cell_type": "code",
   "execution_count": 18,
   "metadata": {},
   "outputs": [],
   "source": [
    "y_true =  list(y_test)\n",
    "y_pred = list(rlog.predict(X_test))"
   ]
  },
  {
   "cell_type": "code",
   "execution_count": 19,
   "metadata": {},
   "outputs": [
    {
     "name": "stdout",
     "output_type": "stream",
     "text": [
      "\n",
      "Matriz de confusion:\n",
      " \n",
      "[[44  0  0  0  0  0  0  0  0  0]\n",
      " [ 0 60  0  0  2  0  1  0  3  2]\n",
      " [ 0  0 52  0  0  0  0  0  0  0]\n",
      " [ 0  0  0 51  0  1  0  1  1  1]\n",
      " [ 0  0  0  0 52  0  0  1  0  0]\n",
      " [ 0  0  0  1  0 45  0  1  0  0]\n",
      " [ 0  1  0  0  0  0 57  0  0  0]\n",
      " [ 0  0  0  0  0  0  0 49  0  1]\n",
      " [ 0  3  0  0  0  3  0  0 52  0]\n",
      " [ 0  0  0  0  0  0  0  3  1 51]]\n"
     ]
    },
    {
     "data": {
      "image/png": "[encoded data removed]",
      "text/plain": [
       "<Figure size 432x288 with 2 Axes>"
      ]
     },
     "metadata": {
      "needs_background": "light"
     },
     "output_type": "display_data"
    }
   ],
   "source": [
    "print('\\nMatriz de confusion:\\n ')\n",
    "print(confusion_matrix(y_true,y_pred))\n",
    "mat=plot_confusion_matrix(rlog,X_test,y_test)"
   ]
  },
  {
   "cell_type": "code",
   "execution_count": 20,
   "metadata": {},
   "outputs": [],
   "source": [
    "from sklearn.metrics import classification_report"
   ]
  },
  {
   "cell_type": "code",
   "execution_count": 21,
   "metadata": {},
   "outputs": [
    {
     "name": "stdout",
     "output_type": "stream",
     "text": [
      "              precision    recall  f1-score   support\n",
      "\n",
      "    numero 0    1.00000   1.00000   1.00000        44\n",
      "    numero 1    0.93750   0.88235   0.90909        68\n",
      "    numero 2    1.00000   1.00000   1.00000        52\n",
      "    numero 3    0.98077   0.92727   0.95327        55\n",
      "    numero 4    0.96296   0.98113   0.97196        53\n",
      "    numero 5    0.91837   0.95745   0.93750        47\n",
      "    numero 6    0.98276   0.98276   0.98276        58\n",
      "    numero 7    0.89091   0.98000   0.93333        50\n",
      "    numero 8    0.91228   0.89655   0.90435        58\n",
      "    numero 9    0.92727   0.92727   0.92727        55\n",
      "\n",
      "    accuracy                        0.95000       540\n",
      "   macro avg    0.95128   0.95348   0.95195       540\n",
      "weighted avg    0.95065   0.95000   0.94990       540\n",
      "\n"
     ]
    }
   ],
   "source": [
    "target_names = ['numero '+ str(i) for i in range(0,10)]\n",
    "print(classification_report(y_test, y_pred, target_names=target_names, digits=5))"
   ]
  },
  {
   "cell_type": "markdown",
   "metadata": {},
   "source": [
    "## K Neighbors"
   ]
  },
  {
   "cell_type": "code",
   "execution_count": 22,
   "metadata": {},
   "outputs": [
    {
     "name": "stdout",
     "output_type": "stream",
     "text": [
      "Best: 0.988864 con {'algorithm': 'ball_tree', 'leaf_size': 1, 'n_neighbors': 1}\n"
     ]
    }
   ],
   "source": [
    "parameters = {'algorithm': [\"ball_tree\", \"kd_tree\", \"brute\"], 'n_neighbors':range(11), \"leaf_size\" : range(60)}\n",
    "clf = KNeighborsClassifier()\n",
    "gs = GridSearchCV(clf, parameters)\n",
    "gs.fit(X_train, y_train)\n",
    "print(\"Best: %f con %s\" % (gs.best_score_, gs.best_params_))"
   ]
  },
  {
   "cell_type": "code",
   "execution_count": 23,
   "metadata": {},
   "outputs": [
    {
     "data": {
      "text/plain": [
       "KNeighborsClassifier(algorithm='ball_tree', leaf_size=1, n_neighbors=1)"
      ]
     },
     "execution_count": 23,
     "metadata": {},
     "output_type": "execute_result"
    }
   ],
   "source": [
    "clf = KNeighborsClassifier(algorithm= \"ball_tree\", leaf_size= 1, n_neighbors= 1)\n",
    "clf.fit(X_train, y_train)"
   ]
  },
  {
   "cell_type": "code",
   "execution_count": 24,
   "metadata": {},
   "outputs": [],
   "source": [
    "y_true =  list(y_test)\n",
    "y_pred = list(clf.predict(X_test))"
   ]
  },
  {
   "cell_type": "code",
   "execution_count": 25,
   "metadata": {},
   "outputs": [
    {
     "name": "stdout",
     "output_type": "stream",
     "text": [
      "\n",
      "Matriz de confusion:\n",
      " \n",
      "[[44  0  0  0  0  0  0  0  0  0]\n",
      " [ 0 68  0  0  0  0  0  0  0  0]\n",
      " [ 0  0 52  0  0  0  0  0  0  0]\n",
      " [ 0  0  0 55  0  0  0  0  0  0]\n",
      " [ 0  0  0  0 53  0  0  0  0  0]\n",
      " [ 0  0  0  0  0 47  0  0  0  0]\n",
      " [ 0  1  0  0  0  0 57  0  0  0]\n",
      " [ 0  0  0  0  0  0  0 50  0  0]\n",
      " [ 0  3  0  0  0  0  0  0 54  1]\n",
      " [ 0  0  0  0  0  2  0  0  2 51]]\n"
     ]
    },
    {
     "data": {
      "text/plain": [
       "<sklearn.metrics._plot.confusion_matrix.ConfusionMatrixDisplay at 0x234204404c0>"
      ]
     },
     "execution_count": 25,
     "metadata": {},
     "output_type": "execute_result"
    },
    {
     "data": {
      "image/png": "[encoded data removed]",
      "text/plain": [
       "<Figure size 432x288 with 2 Axes>"
      ]
     },
     "metadata": {
      "needs_background": "light"
     },
     "output_type": "display_data"
    }
   ],
   "source": [
    "print('\\nMatriz de confusion:\\n ')\n",
    "print(confusion_matrix(y_true,y_pred))\n",
    "plot_confusion_matrix(clf,X_test,y_test)"
   ]
  },
  {
   "cell_type": "code",
   "execution_count": 26,
   "metadata": {},
   "outputs": [
    {
     "name": "stdout",
     "output_type": "stream",
     "text": [
      "              precision    recall  f1-score   support\n",
      "\n",
      "    numero 0    1.00000   1.00000   1.00000        44\n",
      "    numero 1    0.94444   1.00000   0.97143        68\n",
      "    numero 2    1.00000   1.00000   1.00000        52\n",
      "    numero 3    1.00000   1.00000   1.00000        55\n",
      "    numero 4    1.00000   1.00000   1.00000        53\n",
      "    numero 5    0.95918   1.00000   0.97917        47\n",
      "    numero 6    1.00000   0.98276   0.99130        58\n",
      "    numero 7    1.00000   1.00000   1.00000        50\n",
      "    numero 8    0.96429   0.93103   0.94737        58\n",
      "    numero 9    0.98077   0.92727   0.95327        55\n",
      "\n",
      "    accuracy                        0.98333       540\n",
      "   macro avg    0.98487   0.98411   0.98425       540\n",
      "weighted avg    0.98366   0.98333   0.98324       540\n",
      "\n"
     ]
    }
   ],
   "source": [
    "target_names = ['numero '+ str(i) for i in range(0,10)]\n",
    "print(classification_report(y_test, y_pred, target_names=target_names, digits=5))"
   ]
  },
  {
   "cell_type": "markdown",
   "metadata": {},
   "source": [
    "## SVM"
   ]
  },
  {
   "cell_type": "code",
   "execution_count": 27,
   "metadata": {},
   "outputs": [
    {
     "name": "stdout",
     "output_type": "stream",
     "text": [
      "Best: 0.991245 con {'C': 3, 'degree': 0, 'kernel': 'rbf'}\n"
     ]
    }
   ],
   "source": [
    "parameters = {'kernel':['linear', 'polynomial', 'rbf', 'sigmoid'], 'C':range(11), 'degree' : range(11) }\n",
    "sv = svm.SVC()\n",
    "gs_svm = GridSearchCV(sv, parameters)\n",
    "gs_svm.fit(X_train, y_train)\n",
    "print(\"Best: %f con %s\" % (gs_svm.best_score_, gs_svm.best_params_))"
   ]
  },
  {
   "cell_type": "code",
   "execution_count": 28,
   "metadata": {},
   "outputs": [
    {
     "data": {
      "text/plain": [
       "SVC(C=3, degree=0)"
      ]
     },
     "execution_count": 28,
     "metadata": {},
     "output_type": "execute_result"
    }
   ],
   "source": [
    "clf_svm = SVC(kernel= 'rbf', C=3, degree=0)\n",
    "clf_svm.fit(X_train, y_train)"
   ]
  },
  {
   "cell_type": "code",
   "execution_count": 29,
   "metadata": {},
   "outputs": [],
   "source": [
    "y_true =  list(y_test)\n",
    "y_pred = list(gs_svm.predict(X_test))"
   ]
  },
  {
   "cell_type": "code",
   "execution_count": 30,
   "metadata": {},
   "outputs": [
    {
     "name": "stdout",
     "output_type": "stream",
     "text": [
      "\n",
      "Matriz de confusion:\n",
      " \n",
      "[[44  0  0  0  0  0  0  0  0  0]\n",
      " [ 0 68  0  0  0  0  0  0  0  0]\n",
      " [ 0  0 52  0  0  0  0  0  0  0]\n",
      " [ 0  0  0 55  0  0  0  0  0  0]\n",
      " [ 0  0  0  0 53  0  0  0  0  0]\n",
      " [ 0  0  0  0  0 47  0  0  0  0]\n",
      " [ 0  0  0  0  0  0 58  0  0  0]\n",
      " [ 0  0  0  0  0  0  0 50  0  0]\n",
      " [ 0  3  0  0  0  0  0  0 55  0]\n",
      " [ 0  0  0  0  0  0  0  0  1 54]]\n"
     ]
    },
    {
     "data": {
      "text/plain": [
       "<sklearn.metrics._plot.confusion_matrix.ConfusionMatrixDisplay at 0x2341dd1df70>"
      ]
     },
     "execution_count": 30,
     "metadata": {},
     "output_type": "execute_result"
    },
    {
     "data": {
      "image/png": "[encoded data removed]",
      "text/plain": [
       "<Figure size 432x288 with 2 Axes>"
      ]
     },
     "metadata": {
      "needs_background": "light"
     },
     "output_type": "display_data"
    }
   ],
   "source": [
    "print('\\nMatriz de confusion:\\n ')\n",
    "print(confusion_matrix(y_true,y_pred))\n",
    "plot_confusion_matrix(gs_svm,X_test,y_test)"
   ]
  },
  {
   "cell_type": "code",
   "execution_count": 31,
   "metadata": {},
   "outputs": [
    {
     "name": "stdout",
     "output_type": "stream",
     "text": [
      "              precision    recall  f1-score   support\n",
      "\n",
      "    numero 0    1.00000   1.00000   1.00000        44\n",
      "    numero 1    0.95775   1.00000   0.97842        68\n",
      "    numero 2    1.00000   1.00000   1.00000        52\n",
      "    numero 3    1.00000   1.00000   1.00000        55\n",
      "    numero 4    1.00000   1.00000   1.00000        53\n",
      "    numero 5    1.00000   1.00000   1.00000        47\n",
      "    numero 6    1.00000   1.00000   1.00000        58\n",
      "    numero 7    1.00000   1.00000   1.00000        50\n",
      "    numero 8    0.98214   0.94828   0.96491        58\n",
      "    numero 9    1.00000   0.98182   0.99083        55\n",
      "\n",
      "    accuracy                        0.99259       540\n",
      "   macro avg    0.99399   0.99301   0.99342       540\n",
      "weighted avg    0.99276   0.99259   0.99258       540\n",
      "\n"
     ]
    }
   ],
   "source": [
    "target_names = ['numero '+ str(i) for i in range(0,10)]\n",
    "print(classification_report(y_test, y_pred, target_names=target_names, digits=5))"
   ]
  },
  {
   "cell_type": "markdown",
   "metadata": {},
   "source": [
    "### Ejercicio 4\n",
    "\n",
    "__Comprensión del modelo:__ Tomando en cuenta el mejor modelo entontrado en el `Ejercicio 3`, debe comprender e interpretar minuciosamente los resultados y gráficos asocados al modelo en estudio, para ello debe resolver los siguientes puntos:\n",
    "\n",
    "\n",
    "\n",
    " * **Cross validation**: usando **cv** (con n_fold = 10), sacar una especie de \"intervalo de confianza\" sobre alguna de las métricas estudiadas en clases: \n",
    "  * $\\mu \\pm \\sigma$ = promedio $\\pm$ desviación estandar\n",
    " * **Curva de Validación**: Replica el ejemplo del siguiente [link](https://scikit-learn.org/stable/auto_examples/model_selection/plot_validation_curve.html#sphx-glr-auto-examples-model-selection-plot-validation-curve-py) pero con el modelo, parámetros y métrica adecuada. Saque conclusiones del gráfico.\n",
    " * **Curva AUC–ROC**: Replica el ejemplo del siguiente  [link](https://scikit-learn.org/stable/auto_examples/model_selection/plot_roc.html#sphx-glr-auto-examples-model-selection-plot-roc-py) pero con el modelo, parámetros y métrica adecuada. Saque conclusiones del gráfico."
   ]
  },
  {
   "cell_type": "code",
   "execution_count": 32,
   "metadata": {},
   "outputs": [
    {
     "name": "stdout",
     "output_type": "stream",
     "text": [
      "intervalo de confianza para Accuracy: 0.98 (+/- 0.04)\n"
     ]
    }
   ],
   "source": [
    "clf_final = SVC(kernel= 'rbf', C=3, degree=0)\n",
    "scores = cross_val_score(clf_final, X, y, cv=10)\n",
    "print(\"intervalo de confianza para Accuracy: %0.2f (+/- %0.2f)\" % (scores.mean(), scores.std() * 2))"
   ]
  },
  {
   "cell_type": "code",
   "execution_count": 33,
   "metadata": {},
   "outputs": [
    {
     "data": {
      "image/png": "[encoded data removed]",
      "text/plain": [
       "<Figure size 432x288 with 1 Axes>"
      ]
     },
     "metadata": {
      "needs_background": "light"
     },
     "output_type": "display_data"
    }
   ],
   "source": [
    "X, y = load_digits(return_X_y=True)\n",
    "\n",
    "param_range = np.logspace(-6, 3, 5)\n",
    "train_scores, test_scores = validation_curve(\n",
    "     SVC(kernel= 'rbf', C=3, degree=0), X, y, param_name=\"gamma\", param_range=param_range,\n",
    "    scoring=\"accuracy\", n_jobs=1,cv=10)\n",
    "train_scores_mean = np.mean(train_scores, axis=1)\n",
    "train_scores_std = np.std(train_scores, axis=1)\n",
    "test_scores_mean = np.mean(test_scores, axis=1)\n",
    "test_scores_std = np.std(test_scores, axis=1)\n",
    "\n",
    "fig, ax = subplots()\n",
    "\n",
    "\n",
    "\n",
    "plt.title('Validation Curve with SVM')\n",
    "\n",
    "plt.ylim(0.0, 1.1)\n",
    "lw = 2\n",
    "ax.semilogx(param_range, train_scores_mean, label=\"Training score\",\n",
    "             color=\"darkorange\", lw=lw)\n",
    "ax.fill_between(param_range, train_scores_mean - train_scores_std,\n",
    "                 train_scores_mean + train_scores_std, alpha=0.2,\n",
    "                 color=\"darkorange\", lw=lw)\n",
    "ax.semilogx(param_range, test_scores_mean, label=\"Cross-validation score\",\n",
    "             color=\"navy\", lw=lw)\n",
    "ax.fill_between(param_range, test_scores_mean - test_scores_std,\n",
    "                 test_scores_mean + test_scores_std, alpha=0.2,\n",
    "                 color=\"navy\", lw=lw)\n",
    "ax.legend(loc=\"best\")\n",
    "ax.set_xlabel('gamma')\n",
    "ax.set_ylabel('Score')\n",
    "show()"
   ]
  },
  {
   "cell_type": "markdown",
   "metadata": {},
   "source": [
    "notamos que lo mejor seria  tomar un gama de 0.0001"
   ]
  },
  {
   "cell_type": "code",
   "execution_count": 34,
   "metadata": {},
   "outputs": [
    {
     "data": {
      "image/png": "[encoded data removed]",
      "text/plain": [
       "<Figure size 864x576 with 1 Axes>"
      ]
     },
     "metadata": {
      "needs_background": "light"
     },
     "output_type": "display_data"
    }
   ],
   "source": [
    "y = label_binarize(y, classes=[0,1,2,3,4,5,6,7,8,9])\n",
    "n_classes = 10\n",
    "\n",
    "# shuffle and split training and test sets\n",
    "X_train2, X_test2, y_train2, y_test2 =\\\n",
    "    train_test_split(X, y, test_size=0.33, random_state=0)\n",
    "\n",
    "# classifier\n",
    "clf_roc = OneVsRestClassifier( SVC(kernel= 'rbf', C=3, degree=0))\n",
    "y_score = clf_roc.fit(X_train2, y_train2).decision_function(X_test2)\n",
    "\n",
    "# Compute ROC curve and ROC area for each class\n",
    "fpr = dict()\n",
    "tpr = dict()\n",
    "roc_auc = dict()\n",
    "for i in range(n_classes):\n",
    "    fpr[i], tpr[i], _ = roc_curve(y_test2[:, i], y_score[:, i])\n",
    "    roc_auc[i] = auc(fpr[i], tpr[i])\n",
    "\n",
    "# Plot of a ROC curve for a specific class\n",
    "plt.figure(figsize=[12,8])\n",
    "\n",
    "for i in range(n_classes):\n",
    "    plt.plot(fpr[i], tpr[i],label='ROC curve of class {0} (area = {1:f})'\n",
    "             ''.format(i, roc_auc[i]))\n",
    "    \n",
    "plt.plot([0, 1], [0, 1], 'k--')\n",
    "plt.xlim([0.0, 1.0])\n",
    "plt.ylim([0.0, 1.05])\n",
    "plt.xlabel('False Positive Rate')\n",
    "plt.ylabel('True Positive Rate')\n",
    "plt.title('Curva Roc por digitos')\n",
    "plt.legend(loc=\"lower right\")\n",
    "plt.show()"
   ]
  },
  {
   "cell_type": "markdown",
   "metadata": {},
   "source": [
    "podemos ver que el modelo es muy eficiente, reconoce casi siempre el valor correcto"
   ]
  },
  {
   "cell_type": "markdown",
   "metadata": {},
   "source": [
    "### Ejercicio 5\n",
    "__Reducción de la dimensión:__ Tomando en cuenta el mejor modelo encontrado en el `Ejercicio 3`, debe realizar una redcción de dimensionalidad del conjunto de datos. Para ello debe abordar el problema ocupando los dos criterios visto en clases:  \n",
    "\n",
    "* **Selección de atributos**\n",
    "* **Extracción de atributos**\n",
    "\n",
    "__Preguntas a responder:__\n",
    "\n",
    "Una vez realizado la reducción de dimensionalidad, debe sacar algunas estadísticas y gráficas comparativas entre el conjunto de datos original y el nuevo conjunto de datos (tamaño del dataset, tiempo de ejecución del modelo, etc.)\n"
   ]
  },
  {
   "cell_type": "code",
   "execution_count": 35,
   "metadata": {},
   "outputs": [],
   "source": [
    "X_new = digits.drop(columns=\"target\").values\n",
    "y_new = digits[\"target\"].values\n",
    "X_train, X_test, y_train, y_test = train_test_split(X_new, y_new, test_size=0.2, random_state=42)"
   ]
  },
  {
   "cell_type": "code",
   "execution_count": 36,
   "metadata": {},
   "outputs": [],
   "source": [
    "k = 41\n",
    "seleccionadas = SelectKBest(f_classif, k=k).fit(X_train, y_train)\n",
    "catrib = seleccionadas.get_support()\n",
    "atributos = [digits.columns[i] for i in list(catrib.nonzero()[0])]\n",
    "digits_best=digits[atributos]"
   ]
  },
  {
   "cell_type": "code",
   "execution_count": 37,
   "metadata": {},
   "outputs": [
    {
     "data": {
      "image/png": "[encoded data removed]",
      "text/plain": [
       "<Figure size 864x288 with 1 Axes>"
      ]
     },
     "metadata": {
      "needs_background": "light"
     },
     "output_type": "display_data"
    }
   ],
   "source": [
    "pca = PCA(n_components=41)\n",
    "principalComponents = pca.fit_transform(digits_best)\n",
    "percent_variance = np.round(pca.explained_variance_ratio_* 100, decimals =2)\n",
    "percent_variance_cum = np.cumsum(percent_variance)\n",
    "columns = [str(x) for x in list(range(41))]\n",
    "plt.figure(figsize=(12,4))\n",
    "plt.bar(x= range(1,42), height=percent_variance_cum, tick_label=columns)\n",
    "plt.ylabel('Percentate of Variance Explained')\n",
    "plt.xlabel('Principal Component Cumsum')\n",
    "plt.title('PCA Scree Plot')\n",
    "plt.show()"
   ]
  },
  {
   "cell_type": "code",
   "execution_count": 38,
   "metadata": {},
   "outputs": [
    {
     "data": {
      "text/html": [
       "<div>\n",
       "<style scoped>\n",
       "    .dataframe tbody tr th:only-of-type {\n",
       "        vertical-align: middle;\n",
       "    }\n",
       "\n",
       "    .dataframe tbody tr th {\n",
       "        vertical-align: top;\n",
       "    }\n",
       "\n",
       "    .dataframe thead th {\n",
       "        text-align: right;\n",
       "    }\n",
       "</style>\n",
       "<table border=\"1\" class=\"dataframe\">\n",
       "  <thead>\n",
       "    <tr style=\"text-align: right;\">\n",
       "      <th></th>\n",
       "      <th>PC0</th>\n",
       "      <th>PC1</th>\n",
       "      <th>PC2</th>\n",
       "      <th>PC3</th>\n",
       "      <th>PC4</th>\n",
       "      <th>PC5</th>\n",
       "      <th>PC6</th>\n",
       "      <th>PC7</th>\n",
       "      <th>PC8</th>\n",
       "      <th>PC9</th>\n",
       "      <th>...</th>\n",
       "      <th>PC12</th>\n",
       "      <th>PC13</th>\n",
       "      <th>PC14</th>\n",
       "      <th>PC15</th>\n",
       "      <th>PC16</th>\n",
       "      <th>PC17</th>\n",
       "      <th>PC18</th>\n",
       "      <th>PC19</th>\n",
       "      <th>PC20</th>\n",
       "      <th>target</th>\n",
       "    </tr>\n",
       "  </thead>\n",
       "  <tbody>\n",
       "    <tr>\n",
       "      <th>0</th>\n",
       "      <td>-2.858154</td>\n",
       "      <td>21.910657</td>\n",
       "      <td>-7.610982</td>\n",
       "      <td>14.139074</td>\n",
       "      <td>-5.405816</td>\n",
       "      <td>-6.720590</td>\n",
       "      <td>2.696409</td>\n",
       "      <td>3.302387</td>\n",
       "      <td>0.701365</td>\n",
       "      <td>-3.686973</td>\n",
       "      <td>...</td>\n",
       "      <td>-4.335050</td>\n",
       "      <td>-0.431603</td>\n",
       "      <td>0.792621</td>\n",
       "      <td>2.004148</td>\n",
       "      <td>2.027119</td>\n",
       "      <td>1.808744</td>\n",
       "      <td>-4.672324</td>\n",
       "      <td>3.412475</td>\n",
       "      <td>0.669913</td>\n",
       "      <td>0</td>\n",
       "    </tr>\n",
       "    <tr>\n",
       "      <th>1</th>\n",
       "      <td>9.678509</td>\n",
       "      <td>-19.912325</td>\n",
       "      <td>2.801764</td>\n",
       "      <td>-14.424630</td>\n",
       "      <td>6.574480</td>\n",
       "      <td>-5.739814</td>\n",
       "      <td>3.008620</td>\n",
       "      <td>-5.628509</td>\n",
       "      <td>2.793186</td>\n",
       "      <td>2.210750</td>\n",
       "      <td>...</td>\n",
       "      <td>-5.231213</td>\n",
       "      <td>8.961867</td>\n",
       "      <td>-0.746873</td>\n",
       "      <td>-0.471558</td>\n",
       "      <td>1.476075</td>\n",
       "      <td>-6.580810</td>\n",
       "      <td>2.349762</td>\n",
       "      <td>5.064005</td>\n",
       "      <td>-1.849663</td>\n",
       "      <td>1</td>\n",
       "    </tr>\n",
       "    <tr>\n",
       "      <th>2</th>\n",
       "      <td>7.393181</td>\n",
       "      <td>-8.970243</td>\n",
       "      <td>2.345356</td>\n",
       "      <td>-11.496446</td>\n",
       "      <td>-17.752752</td>\n",
       "      <td>-8.219064</td>\n",
       "      <td>2.344683</td>\n",
       "      <td>-14.996146</td>\n",
       "      <td>-1.278873</td>\n",
       "      <td>-4.976939</td>\n",
       "      <td>...</td>\n",
       "      <td>7.788946</td>\n",
       "      <td>-2.683410</td>\n",
       "      <td>2.986686</td>\n",
       "      <td>-6.973667</td>\n",
       "      <td>-3.799012</td>\n",
       "      <td>3.843673</td>\n",
       "      <td>-2.409122</td>\n",
       "      <td>-1.712637</td>\n",
       "      <td>-4.172053</td>\n",
       "      <td>2</td>\n",
       "    </tr>\n",
       "    <tr>\n",
       "      <th>3</th>\n",
       "      <td>-15.495936</td>\n",
       "      <td>1.944537</td>\n",
       "      <td>9.432426</td>\n",
       "      <td>-12.214386</td>\n",
       "      <td>6.881507</td>\n",
       "      <td>2.953251</td>\n",
       "      <td>0.220102</td>\n",
       "      <td>11.580342</td>\n",
       "      <td>2.408373</td>\n",
       "      <td>-5.892429</td>\n",
       "      <td>...</td>\n",
       "      <td>-5.610692</td>\n",
       "      <td>-0.625105</td>\n",
       "      <td>-0.639377</td>\n",
       "      <td>2.826049</td>\n",
       "      <td>1.906026</td>\n",
       "      <td>0.191590</td>\n",
       "      <td>-2.090107</td>\n",
       "      <td>1.920048</td>\n",
       "      <td>4.120454</td>\n",
       "      <td>3</td>\n",
       "    </tr>\n",
       "    <tr>\n",
       "      <th>4</th>\n",
       "      <td>24.401968</td>\n",
       "      <td>6.179789</td>\n",
       "      <td>-4.088832</td>\n",
       "      <td>-12.933190</td>\n",
       "      <td>-0.264023</td>\n",
       "      <td>-4.476037</td>\n",
       "      <td>1.228339</td>\n",
       "      <td>13.659597</td>\n",
       "      <td>3.818962</td>\n",
       "      <td>-10.949468</td>\n",
       "      <td>...</td>\n",
       "      <td>4.319307</td>\n",
       "      <td>6.513287</td>\n",
       "      <td>5.962615</td>\n",
       "      <td>6.100843</td>\n",
       "      <td>-2.677563</td>\n",
       "      <td>-3.154495</td>\n",
       "      <td>-0.051967</td>\n",
       "      <td>-7.711354</td>\n",
       "      <td>4.121313</td>\n",
       "      <td>4</td>\n",
       "    </tr>\n",
       "    <tr>\n",
       "      <th>...</th>\n",
       "      <td>...</td>\n",
       "      <td>...</td>\n",
       "      <td>...</td>\n",
       "      <td>...</td>\n",
       "      <td>...</td>\n",
       "      <td>...</td>\n",
       "      <td>...</td>\n",
       "      <td>...</td>\n",
       "      <td>...</td>\n",
       "      <td>...</td>\n",
       "      <td>...</td>\n",
       "      <td>...</td>\n",
       "      <td>...</td>\n",
       "      <td>...</td>\n",
       "      <td>...</td>\n",
       "      <td>...</td>\n",
       "      <td>...</td>\n",
       "      <td>...</td>\n",
       "      <td>...</td>\n",
       "      <td>...</td>\n",
       "      <td>...</td>\n",
       "    </tr>\n",
       "    <tr>\n",
       "      <th>1792</th>\n",
       "      <td>-15.176724</td>\n",
       "      <td>13.879573</td>\n",
       "      <td>-13.319404</td>\n",
       "      <td>-6.283645</td>\n",
       "      <td>4.059062</td>\n",
       "      <td>-1.487697</td>\n",
       "      <td>-6.074312</td>\n",
       "      <td>-5.088312</td>\n",
       "      <td>3.326477</td>\n",
       "      <td>8.146080</td>\n",
       "      <td>...</td>\n",
       "      <td>-2.366427</td>\n",
       "      <td>1.947988</td>\n",
       "      <td>4.963849</td>\n",
       "      <td>0.772731</td>\n",
       "      <td>-0.100676</td>\n",
       "      <td>-1.852654</td>\n",
       "      <td>-1.056549</td>\n",
       "      <td>-1.162880</td>\n",
       "      <td>1.961771</td>\n",
       "      <td>9</td>\n",
       "    </tr>\n",
       "    <tr>\n",
       "      <th>1793</th>\n",
       "      <td>5.056755</td>\n",
       "      <td>21.981762</td>\n",
       "      <td>-6.798510</td>\n",
       "      <td>14.356104</td>\n",
       "      <td>-6.098690</td>\n",
       "      <td>-12.684461</td>\n",
       "      <td>4.354317</td>\n",
       "      <td>-0.922161</td>\n",
       "      <td>-8.297486</td>\n",
       "      <td>3.078377</td>\n",
       "      <td>...</td>\n",
       "      <td>6.207061</td>\n",
       "      <td>2.439686</td>\n",
       "      <td>-4.209667</td>\n",
       "      <td>-1.758637</td>\n",
       "      <td>-1.855577</td>\n",
       "      <td>-1.515352</td>\n",
       "      <td>5.012568</td>\n",
       "      <td>2.002686</td>\n",
       "      <td>0.786095</td>\n",
       "      <td>0</td>\n",
       "    </tr>\n",
       "    <tr>\n",
       "      <th>1794</th>\n",
       "      <td>10.468399</td>\n",
       "      <td>-6.632695</td>\n",
       "      <td>5.589312</td>\n",
       "      <td>-7.497858</td>\n",
       "      <td>-2.448297</td>\n",
       "      <td>-15.480710</td>\n",
       "      <td>-4.022310</td>\n",
       "      <td>-3.834164</td>\n",
       "      <td>-8.013340</td>\n",
       "      <td>12.337428</td>\n",
       "      <td>...</td>\n",
       "      <td>-0.135839</td>\n",
       "      <td>-2.602819</td>\n",
       "      <td>8.285570</td>\n",
       "      <td>0.524574</td>\n",
       "      <td>4.118951</td>\n",
       "      <td>3.190707</td>\n",
       "      <td>-2.232621</td>\n",
       "      <td>-2.938078</td>\n",
       "      <td>0.947574</td>\n",
       "      <td>8</td>\n",
       "    </tr>\n",
       "    <tr>\n",
       "      <th>1795</th>\n",
       "      <td>-5.730121</td>\n",
       "      <td>13.299245</td>\n",
       "      <td>-10.680082</td>\n",
       "      <td>-5.620062</td>\n",
       "      <td>3.899213</td>\n",
       "      <td>2.717669</td>\n",
       "      <td>-5.244899</td>\n",
       "      <td>-6.343622</td>\n",
       "      <td>-3.474214</td>\n",
       "      <td>10.539405</td>\n",
       "      <td>...</td>\n",
       "      <td>-0.693595</td>\n",
       "      <td>4.710635</td>\n",
       "      <td>4.540925</td>\n",
       "      <td>4.089694</td>\n",
       "      <td>4.682138</td>\n",
       "      <td>4.208811</td>\n",
       "      <td>-0.993528</td>\n",
       "      <td>3.765549</td>\n",
       "      <td>1.482271</td>\n",
       "      <td>9</td>\n",
       "    </tr>\n",
       "    <tr>\n",
       "      <th>1796</th>\n",
       "      <td>-1.690284</td>\n",
       "      <td>4.833308</td>\n",
       "      <td>10.223698</td>\n",
       "      <td>-8.517951</td>\n",
       "      <td>-3.511881</td>\n",
       "      <td>-5.728672</td>\n",
       "      <td>-12.150310</td>\n",
       "      <td>3.060096</td>\n",
       "      <td>-7.800985</td>\n",
       "      <td>11.339802</td>\n",
       "      <td>...</td>\n",
       "      <td>4.238495</td>\n",
       "      <td>-7.837900</td>\n",
       "      <td>2.081164</td>\n",
       "      <td>1.636168</td>\n",
       "      <td>0.660268</td>\n",
       "      <td>5.160208</td>\n",
       "      <td>-1.035307</td>\n",
       "      <td>-4.543009</td>\n",
       "      <td>0.340728</td>\n",
       "      <td>8</td>\n",
       "    </tr>\n",
       "  </tbody>\n",
       "</table>\n",
       "<p>1797 rows × 22 columns</p>\n",
       "</div>"
      ],
      "text/plain": [
       "            PC0        PC1        PC2        PC3        PC4        PC5  \\\n",
       "0     -2.858154  21.910657  -7.610982  14.139074  -5.405816  -6.720590   \n",
       "1      9.678509 -19.912325   2.801764 -14.424630   6.574480  -5.739814   \n",
       "2      7.393181  -8.970243   2.345356 -11.496446 -17.752752  -8.219064   \n",
       "3    -15.495936   1.944537   9.432426 -12.214386   6.881507   2.953251   \n",
       "4     24.401968   6.179789  -4.088832 -12.933190  -0.264023  -4.476037   \n",
       "...         ...        ...        ...        ...        ...        ...   \n",
       "1792 -15.176724  13.879573 -13.319404  -6.283645   4.059062  -1.487697   \n",
       "1793   5.056755  21.981762  -6.798510  14.356104  -6.098690 -12.684461   \n",
       "1794  10.468399  -6.632695   5.589312  -7.497858  -2.448297 -15.480710   \n",
       "1795  -5.730121  13.299245 -10.680082  -5.620062   3.899213   2.717669   \n",
       "1796  -1.690284   4.833308  10.223698  -8.517951  -3.511881  -5.728672   \n",
       "\n",
       "            PC6        PC7       PC8        PC9  ...      PC12      PC13  \\\n",
       "0      2.696409   3.302387  0.701365  -3.686973  ... -4.335050 -0.431603   \n",
       "1      3.008620  -5.628509  2.793186   2.210750  ... -5.231213  8.961867   \n",
       "2      2.344683 -14.996146 -1.278873  -4.976939  ...  7.788946 -2.683410   \n",
       "3      0.220102  11.580342  2.408373  -5.892429  ... -5.610692 -0.625105   \n",
       "4      1.228339  13.659597  3.818962 -10.949468  ...  4.319307  6.513287   \n",
       "...         ...        ...       ...        ...  ...       ...       ...   \n",
       "1792  -6.074312  -5.088312  3.326477   8.146080  ... -2.366427  1.947988   \n",
       "1793   4.354317  -0.922161 -8.297486   3.078377  ...  6.207061  2.439686   \n",
       "1794  -4.022310  -3.834164 -8.013340  12.337428  ... -0.135839 -2.602819   \n",
       "1795  -5.244899  -6.343622 -3.474214  10.539405  ... -0.693595  4.710635   \n",
       "1796 -12.150310   3.060096 -7.800985  11.339802  ...  4.238495 -7.837900   \n",
       "\n",
       "          PC14      PC15      PC16      PC17      PC18      PC19      PC20  \\\n",
       "0     0.792621  2.004148  2.027119  1.808744 -4.672324  3.412475  0.669913   \n",
       "1    -0.746873 -0.471558  1.476075 -6.580810  2.349762  5.064005 -1.849663   \n",
       "2     2.986686 -6.973667 -3.799012  3.843673 -2.409122 -1.712637 -4.172053   \n",
       "3    -0.639377  2.826049  1.906026  0.191590 -2.090107  1.920048  4.120454   \n",
       "4     5.962615  6.100843 -2.677563 -3.154495 -0.051967 -7.711354  4.121313   \n",
       "...        ...       ...       ...       ...       ...       ...       ...   \n",
       "1792  4.963849  0.772731 -0.100676 -1.852654 -1.056549 -1.162880  1.961771   \n",
       "1793 -4.209667 -1.758637 -1.855577 -1.515352  5.012568  2.002686  0.786095   \n",
       "1794  8.285570  0.524574  4.118951  3.190707 -2.232621 -2.938078  0.947574   \n",
       "1795  4.540925  4.089694  4.682138  4.208811 -0.993528  3.765549  1.482271   \n",
       "1796  2.081164  1.636168  0.660268  5.160208 -1.035307 -4.543009  0.340728   \n",
       "\n",
       "      target  \n",
       "0          0  \n",
       "1          1  \n",
       "2          2  \n",
       "3          3  \n",
       "4          4  \n",
       "...      ...  \n",
       "1792       9  \n",
       "1793       0  \n",
       "1794       8  \n",
       "1795       9  \n",
       "1796       8  \n",
       "\n",
       "[1797 rows x 22 columns]"
      ]
     },
     "execution_count": 38,
     "metadata": {},
     "output_type": "execute_result"
    }
   ],
   "source": [
    "principaldf = pd.DataFrame(data = principalComponents[:,list(range(21))], columns = ['PC'+str(i) for i in range(21)])\n",
    "targetDataframe = digits[['target']]\n",
    "df_pca = pd.concat([principaldf, targetDataframe],axis = 1)\n",
    "df_pca"
   ]
  },
  {
   "cell_type": "code",
   "execution_count": 39,
   "metadata": {},
   "outputs": [
    {
     "data": {
      "image/png": "[encoded data removed]",
      "text/plain": [
       "<Figure size 1152x1728 with 24 Axes>"
      ]
     },
     "metadata": {
      "needs_background": "light"
     },
     "output_type": "display_data"
    }
   ],
   "source": [
    "n_show = df_pca.shape[1]\n",
    "\n",
    "fig, axes = plt.subplots(figsize=(16,4*int(np.ceil(n_show/4))), nrows=int(np.ceil(n_show/4)), ncols=4)\n",
    "for i,  column in enumerate(df_pca.columns[:n_show]):\n",
    "  sns.distplot(df_pca[column], hist=True, rug=False, kde=True, ax=axes[i//4,i%4],label=column)\n",
    "  i = i+1\n",
    "plt.show()"
   ]
  },
  {
   "cell_type": "code",
   "execution_count": 40,
   "metadata": {},
   "outputs": [
    {
     "ename": "SyntaxError",
     "evalue": "invalid syntax (<ipython-input-40-0b7f0ef1ac1e>, line 1)",
     "output_type": "error",
     "traceback": [
      "\u001b[1;36m  File \u001b[1;32m\"<ipython-input-40-0b7f0ef1ac1e>\"\u001b[1;36m, line \u001b[1;32m1\u001b[0m\n\u001b[1;33m    Notese que las nuevas distribuciones para el df_pca (dataframe obtenido del pca) son casi normales, luego cualquier estimacion se tendrá un excelente resultado.\u001b[0m\n\u001b[1;37m           ^\u001b[0m\n\u001b[1;31mSyntaxError\u001b[0m\u001b[1;31m:\u001b[0m invalid syntax\n"
     ]
    }
   ],
   "source": [
    "Notese que las nuevas distribuciones para el df_pca (dataframe obtenido del pca) son casi normales, luego cualquier estimacion se tendrá un excelente resultado."
   ]
  },
  {
   "cell_type": "code",
   "execution_count": null,
   "metadata": {},
   "outputs": [],
   "source": [
    "X_pca = df_pca.drop(columns=\"target\").values\n",
    "y_pca = df_pca[\"target\"].values\n",
    "X_train, X_test, y_train, y_test = train_test_split(X_pca, y_pca, test_size=0.2, random_state=42)\n",
    "clf_pca =  SVC(kernel= 'rbf', C=3, degree=0)\n",
    "clf_pca.fit(X_train,y_train)\n",
    "y_pred = clf_pca.predict(X_test)\n",
    "print(classification_report(y_test, y_pred, digits=4))"
   ]
  },
  {
   "cell_type": "markdown",
   "metadata": {},
   "source": [
    "### Ejercicio 6\n",
    "\n",
    "\n",
    "__Visualizando Resultados:__ A continuación se provee código para comparar las etiquetas predichas vs las etiquetas reales del conjunto de _test_. \n"
   ]
  },
  {
   "cell_type": "code",
   "execution_count": null,
   "metadata": {},
   "outputs": [],
   "source": [
    "def mostar_resultados(digits,model,nx=5, ny=5,label = \"correctos\"):\n",
    "    \"\"\"\n",
    "    Muestra los resultados de las prediciones de un modelo \n",
    "    de clasificacion en particular. Se toman aleatoriamente los valores\n",
    "    de los resultados.\n",
    "    \n",
    "    - label == 'correcto': retorna los valores en que el modelo acierta.\n",
    "    - label == 'incorrecto': retorna los valores en que el modelo no acierta.\n",
    "\n",
    "    \n",
    "    Observacion: El modelo que recibe como argumento debe NO encontrarse\n",
    "    'entrenado'.\n",
    "    \n",
    "    \n",
    "    :param digits: dataset 'digits'\n",
    "    :param model: modelo de sklearn\n",
    "    :param nx: numero de filas (subplots)\n",
    "    :param ny: numero de columnas (subplots)\n",
    "    :param label: datos correctos o incorrectos\n",
    "    :return: graficos matplotlib\n",
    "    \"\"\"\n",
    "    \n",
    "    \n",
    "    X = digits.drop(columns=\"target\").values\n",
    "    Y = digits[\"target\"].values\n",
    "    X_train, X_test, Y_train, Y_test = train_test_split(X, Y, test_size=0.2, random_state = 42) \n",
    "    model.fit(X_train, Y_train) # ajustando el modelo\n",
    "    Y_pred = list(model.predict(X_test))\n",
    "\n",
    "    \n",
    "    # Mostrar los datos correctos\n",
    "    if label==\"correctos\":\n",
    "        mask = (Y_pred == Y_test)\n",
    "        color = \"green\"\n",
    "        \n",
    "    # Mostrar los datos correctos\n",
    "    elif label==\"incorrectos\":\n",
    "        mask = (Y_pred != Y_test)\n",
    "        color = \"red\"\n",
    "    \n",
    "    else:\n",
    "        raise ValueError(\"Valor incorrecto\")\n",
    "        \n",
    "    X_aux = X_test[mask]\n",
    "    y_aux_true = np.array(Y_test)[mask]\n",
    "    y_aux_pred = np.array(Y_pred)[mask]\n",
    "\n",
    "    # We'll plot the first 100 examples, randomly choosen\n",
    "    fig, ax = plt.subplots(nx, ny, figsize=(12,12))\n",
    "    for i in range(nx):\n",
    "        for j in range(ny):\n",
    "            index = j + ny * i\n",
    "            data  = X_aux[index, :].reshape(8,8)\n",
    "            label_pred = str(int(y_aux_pred[index]))\n",
    "            label_true = str(int(y_aux_true[index]))\n",
    "            ax[i][j].imshow(data, interpolation='nearest', cmap='gray_r')\n",
    "            ax[i][j].text(0, 0, label_pred, horizontalalignment='center', verticalalignment='center', fontsize=10, color=color)\n",
    "            ax[i][j].text(7, 0, label_true, horizontalalignment='center', verticalalignment='center', fontsize=10, color='blue')\n",
    "            ax[i][j].get_xaxis().set_visible(False)\n",
    "            ax[i][j].get_yaxis().set_visible(False)\n",
    "    plt.show()"
   ]
  },
  {
   "cell_type": "markdown",
   "metadata": {},
   "source": [
    "**Pregunta**\n",
    "\n",
    "* Tomando en cuenta el mejor modelo entontrado en el `Ejercicio 3`, grafique los resultados cuando:\n",
    " * el valor predicho y original son iguales\n",
    " * el valor predicho y original son distintos \n",
    "\n",
    "\n",
    "* Cuando el valor predicho y original son distintos ,  ¿Por qué ocurren estas fallas?"
   ]
  },
  {
   "cell_type": "code",
   "execution_count": null,
   "metadata": {},
   "outputs": [],
   "source": [
    "mostar_resultados(digits,SVC(kernel= 'rbf', C=3, degree=0),nx=5, ny=5,label = \"correctos\")"
   ]
  },
  {
   "cell_type": "code",
   "execution_count": null,
   "metadata": {},
   "outputs": [],
   "source": [
    "mostar_resultados(digits,SVC(kernel= 'rbf', C=3, degree=0),nx=2, ny=2,label = \"incorrectos\")"
   ]
  },
  {
   "cell_type": "markdown",
   "metadata": {},
   "source": [
    "### Ejercicio 7\n",
    "**Conclusiones**: Entrega tu veredicto, responde las preguntas iniciales, visualizaciones, trabajos futuros, dificultades, etc."
   ]
  },
  {
   "cell_type": "markdown",
   "metadata": {},
   "source": [
    "notamos que aunque tenga una  precicion muy buena  este comete  fallos, creo que  una buena opcion paramejorarel modelo es aumentar el numero de pixceles con el que se visualizan las imagenes para evitar que los tonos grices se confundan con lineas. "
   ]
  },
  {
   "cell_type": "markdown",
   "metadata": {},
   "source": [
    "## II.- California Housing Prices\n",
    "\n",
    "\n",
    "<img src=\"https://www.wartsila.com/images/default-source/default-album/california_housing.tmb-1920x690.jpg?sfvrsn=126bc44_1\" width=\"480\" height=\"240\" align=\"center\"/>\n",
    "\n",
    "Los datos se refieren a las casas encontradas en un distrito determinado de California y algunas estadísticas resumidas sobre ellas basadas en los datos del censo de 1990. Tenga en cuenta que los datos no se limpian, por lo que se requieren algunos pasos de procesamiento previo.\n",
    "\n",
    "Las columnas son las siguientes, sus nombres se explican por sí mismos:\n",
    "\n",
    "* longitude\n",
    "* latitude\n",
    "* housingmedianage\n",
    "* total_rooms\n",
    "* total_bedrooms\n",
    "* population\n",
    "* households\n",
    "* median_income\n",
    "* medianhousevalue\n",
    "* ocean_proximity\n",
    "\n",
    "\n",
    "El objetivo es poder predecir el valor promedio de cada propiedad. \n",
    "Para poder completar correctamente este laboratorio, es necesario seguir la siguiente rúbrica de trabajo:\n",
    "\n",
    "1. Definición del problema\n",
    "2. Estadística descriptiva\n",
    "3. Visualización descriptiva\n",
    "4. Preprocesamiento\n",
    "5. Selección de modelo \n",
    "    1. Por lo menos debe comparar cuatro modelos\n",
    "    2. Al menos tres de estos modelos tienen que tener hiperparámetros.\n",
    "    3. Realizar optimización de hiperparámetros.\n",
    "6. Métricas y análisis de resultados\n",
    "7. Visualizaciones del modelo\n",
    "8. Conclusiones\n",
    "\n",
    "> **Observación**: Puede tomar como referencia lo realizado en la sección **I.- Clasificación de dígitos**. El alumno tiene la libertad de desarrollar un análisis más completo del problema (si así lo desea). Puede tomar como referencia el siguiente [link](https://www.kaggle.com/camnugent/california-housing-prices)."
   ]
  },
  {
   "cell_type": "code",
   "execution_count": null,
   "metadata": {},
   "outputs": [],
   "source": [
    "# read data\n",
    "housing = pd.read_csv('data/housing.csv',sep=',')\n",
    "housing.head()"
   ]
  },
  {
   "cell_type": "code",
   "execution_count": null,
   "metadata": {},
   "outputs": [],
   "source": [
    "housing.info()"
   ]
  },
  {
   "cell_type": "code",
   "execution_count": null,
   "metadata": {},
   "outputs": [],
   "source": [
    "label = LabelEncoder()\n",
    "\n",
    "housing['ocean_proximity'] = label.fit_transform(housing['ocean_proximity'])\n",
    "housing"
   ]
  },
  {
   "cell_type": "code",
   "execution_count": null,
   "metadata": {},
   "outputs": [],
   "source": [
    "housing.isnull().sum()"
   ]
  },
  {
   "cell_type": "code",
   "execution_count": null,
   "metadata": {},
   "outputs": [],
   "source": [
    "housing.fillna(method='pad', inplace=True)"
   ]
  },
  {
   "cell_type": "code",
   "execution_count": null,
   "metadata": {},
   "outputs": [],
   "source": [
    "housing.isnull().sum()"
   ]
  },
  {
   "cell_type": "code",
   "execution_count": null,
   "metadata": {},
   "outputs": [],
   "source": [
    "housing.describe().T"
   ]
  },
  {
   "cell_type": "code",
   "execution_count": null,
   "metadata": {},
   "outputs": [],
   "source": [
    "housing.iloc[:,:].describe().T"
   ]
  },
  {
   "cell_type": "code",
   "execution_count": null,
   "metadata": {},
   "outputs": [],
   "source": [
    "n_show_housing = housing.shape[1]\n",
    "\n",
    "fig, axes = plt.subplots(figsize=(16,4*int(np.ceil(n_show_housing/4))), nrows=int(np.ceil(n_show_housing/4)), ncols=4)\n",
    "for i,  column in enumerate(housing.columns[:n_show]):\n",
    "  sns.distplot(housing[column], hist=True, rug=False, kde=True, ax=axes[i//4,i%4],label=column)\n",
    "  i = i+1\n",
    "plt.show()"
   ]
  },
  {
   "cell_type": "code",
   "execution_count": null,
   "metadata": {},
   "outputs": [],
   "source": [
    "par=[\"latitude\",\"longitude\",\"ocean_proximity\"]\n",
    "sns.pairplot(data=housing[par],hue=\"ocean_proximity\")"
   ]
  },
  {
   "cell_type": "code",
   "execution_count": null,
   "metadata": {},
   "outputs": [],
   "source": [
    "par=[\"latitude\",\"longitude\",\"median_house_value\"]\n",
    "sns.pairplot(data=housing[par],hue=\"median_house_value\")"
   ]
  },
  {
   "cell_type": "code",
   "execution_count": null,
   "metadata": {},
   "outputs": [],
   "source": [
    "sns.set(rc={'figure.figsize': (12, 12)})\n",
    "sns.heatmap(housing.corr())\n",
    "plt.show()"
   ]
  },
  {
   "cell_type": "code",
   "execution_count": null,
   "metadata": {},
   "outputs": [],
   "source": [
    "plt.figure(figsize=(16,6))\n",
    "fig = sns.scatterplot(housing.longitude, housing.latitude, hue=housing['median_house_value'],\n",
    "                      legend=False);"
   ]
  },
  {
   "cell_type": "markdown",
   "metadata": {},
   "source": [
    "podemos intuir una correlacion entre latitud, longitude y ocean_proximity, ya que la latitud junto  a  la longitud se relacionan a la ubicacion y por el grafico anterior vemos que el precio aumenta cerca de la costa."
   ]
  },
  {
   "cell_type": "markdown",
   "metadata": {},
   "source": [
    "## Modelo"
   ]
  },
  {
   "cell_type": "code",
   "execution_count": null,
   "metadata": {},
   "outputs": [],
   "source": [
    "from sklearn.model_selection import train_test_split\n",
    "X = housing.drop(['median_house_value', 'ocean_proximity'], axis=1)\n",
    "y = housing['median_house_value']\n",
    "\n",
    "X_train, X_test, y_train, y_test = train_test_split(X,y, test_size=0.3,random_state=42)"
   ]
  },
  {
   "cell_type": "markdown",
   "metadata": {},
   "source": [
    "## Comparemos modelos"
   ]
  },
  {
   "cell_type": "code",
   "execution_count": null,
   "metadata": {},
   "outputs": [],
   "source": [
    "lr = LinearRegression()\n",
    "lr.fit(X_train, y_train)\n",
    "LinearRegression(copy_X=True, fit_intercept=True, n_jobs=1, normalize=False)\n",
    "print(\"RL\\n\")\n",
    "# de aqui predice para el conjunto de train\n",
    "print(\"_____________________________\")\n",
    "print(\"conjunto de train\")\n",
    "pred_train_lr= lr.predict(X_train)\n",
    "print(\"RMSE \", np.sqrt(mean_squared_error(y_train,pred_train_lr))) #RMSE error cuadratico medio\n",
    "print(\"R^2 \",r2_score(y_train, pred_train_lr)) #R_cuadrado \n",
    "# de aqui predice para el conjunto de validacion\n",
    "print(\"_____________________________\")\n",
    "print(\"_____________________________\")\n",
    "print(\"conjunto de validacion\")\n",
    "pred_test_lr= lr.predict(X_test)\n",
    "print(\"RMSE \",np.sqrt(mean_squared_error(y_test,pred_test_lr))) #RMSE\n",
    "print(\"R^2 \",r2_score(y_test, pred_test_lr))  #R_cuadrado (cor de pearson)\n",
    "print(\"_____________________________\")\n",
    "print(\"MAPE\")\n",
    "print(np.mean(np.abs(((y_test - lr.predict(X_test))/y_test)))*100)\n",
    "print(\"_____________________________\\n\\n\")\n",
    "\n",
    "alphas = 10**np.linspace(10,-2,100)*0.5  #array de posibles valores para alfa\n",
    "ridge = Ridge(normalize = True) #se puede quitar el normalizador, pero ya esta normali\n",
    "coefs = []\n",
    "\n",
    "for a in alphas:     #haciendo muchos ridge, y guardamos los coef en la lista\n",
    "    ridge.set_params(alpha = a)\n",
    "    ridge.fit(X, y)\n",
    "    coefs.append(ridge.coef_)\n",
    "\n",
    "#np.shape(coefs)\n",
    "ridgecv = RidgeCV(alphas = alphas, scoring = 'neg_mean_squared_error', normalize = True)\n",
    "ridgecv.fit(X_train, y_train)\n",
    "#ridgecv.alphas\n",
    "\n",
    "# sobre los datos de entrenamiento\n",
    "ridge4 = Ridge(alpha = ridgecv.alpha_, normalize = True)\n",
    "ridge4.fit(X_train, y_train)\n",
    "mean_squared_error(y_test, ridge4.predict(X_test))\n",
    "h=ridge4.fit(X,y).get_params()\n",
    "\n",
    "rr = Ridge(alpha=h[\"alpha\"]) #cambiar alfa despues con cross validation!!!\n",
    "rr.fit(X_train, y_train) \n",
    "pred_train_rr= rr.predict(X_train)\n",
    "\n",
    "print(\"Ridge\\n\")\n",
    "# de aqui predice para el conjunto de train\n",
    "print(\"_____________________________\")\n",
    "print(\"conjunto de train\")\n",
    "#para train\n",
    "print(\"RMSE \",np.sqrt(mean_squared_error(y_train,pred_train_rr))) #RMSE\n",
    "print(\"R^2 \",r2_score(y_train, pred_train_rr))  #R^cuadrado\n",
    "\n",
    "\n",
    " # de aqui predice para el conjunto de validacion\n",
    "print(\"_____________________________\")\n",
    "print(\"_____________________________\")\n",
    "print(\"conjunto de validacion\")\n",
    "# para validation\n",
    "pred_test_rr= rr.predict(X_test)\n",
    "print(\"RMSE \",np.sqrt(mean_squared_error(y_test,pred_test_rr))) \n",
    "print(\"R^2 \",r2_score(y_test, pred_test_rr))\n",
    "print(\"_____________________________\")\n",
    "print(\"MAPE\")\n",
    "print(np.mean(np.abs(((y_test - rr.predict(X_test))/y_test)))*100)\n",
    "print(\"_____________________________\\n\\n\")\n",
    "\n",
    "lasso = Lasso(max_iter = 10000, normalize = True)\n",
    "coefs_2 = []\n",
    "\n",
    "for a in alphas:\n",
    "    lasso.set_params(alpha=a)\n",
    "    lasso.fit(scale(X_train), y_train)\n",
    "    coefs_2.append(lasso.coef_)\n",
    "\n",
    "\n",
    "lassocv = LassoCV(alphas = None, cv = 10, max_iter = 100000, normalize = True)\n",
    "lassocv.fit(X_train, y_train)\n",
    "\n",
    "lasso.set_params(alpha=lassocv.alpha_)\n",
    "lasso.fit(X_train, y_train)\n",
    "mean_squared_error(y_test, lasso.predict(X_test))\n",
    "\n",
    "\n",
    "print(\"Lasso\\n\")\n",
    "# de aqui predice para el conjunto de train\n",
    "print(\"_____________________________\")\n",
    "print(\"conjunto de train\")\n",
    "#para train\n",
    "print(\"RMSE \",np.sqrt(mean_squared_error(y_train, lasso.predict(X_train)))) #RMSE\n",
    "print(\"R^2 \",r2_score(y_train, lasso.predict(X_train)))  #R^cuadrado\n",
    "\n",
    "\n",
    " # de aqui predice para el conjunto de validacion\n",
    "print(\"_____________________________\")\n",
    "print(\"_____________________________\")\n",
    "print(\"conjunto de validacion\")\n",
    "# para validation\n",
    "print(\"RMSE \",np.sqrt(mean_squared_error(y_test, lasso.predict(X_test)))) #RMSE\n",
    "print(\"R^2 \",r2_score(y_test, lasso.predict(X_test)))  #R^cuadrado\n",
    "print(\"_____________________________\")\n",
    "print(\"MAPE\")\n",
    "print(np.mean(np.abs(((y_test - lasso.predict(X_test))/y_test)))*100)\n",
    "print(\"_____________________________\\n\\n\")\n",
    "\n",
    "print(\"Elastic\\n\")\n",
    "model_enet = ElasticNet(alpha = 0.01) #cambiar alfa despues con cross validation!!!\n",
    "model_enet.fit(X_train, y_train) \n",
    "pred_train_enet= model_enet.predict(X_train)\n",
    "print(\"_____________________________\")\n",
    "print(\"conjunto de train\")\n",
    "#para train\n",
    "print(\"RMSE \",np.sqrt(mean_squared_error(y_train,pred_train_enet)))\n",
    "print(\"R^2 \",r2_score(y_train, pred_train_enet))\n",
    "print(\"_____________________________\")\n",
    "print(\"_____________________________\")\n",
    "print(\"conjunto de validacion\")\n",
    "#para validacion\n",
    "pred_test_enet= model_enet.predict(X_test)\n",
    "print(\"RMSE \",np.sqrt(mean_squared_error(y_test,pred_test_enet)))\n",
    "print(\"R^2 \",r2_score(y_test, pred_test_enet))\n",
    "\n",
    "print(\"_____________________________\")\n",
    "print(\"MAPE\")\n",
    "print(np.mean(np.abs(((y_test - model_enet.predict(X_test))/y_test)))*100)\n",
    "print(\"_____________________________\\n\\n\")\n",
    "\n",
    "print(\"Random Forest\\n\")\n",
    "ran_forest = RandomForestRegressor() \n",
    "ran_forest.fit(X_train, y_train)\n",
    "\n",
    "pred_train_random_forest = ran_forest.predict(X_train)\n",
    "print(\"_____________________________\")\n",
    "print(\"conjunto de train\")\n",
    "#para train\n",
    "print(\"RMSE \",np.sqrt(mean_squared_error(y_train,pred_train_random_forest)))\n",
    "print(\"R^2 \",r2_score(y_train, pred_train_random_forest))\n",
    "print(\"_____________________________\")\n",
    "print(\"_____________________________\")\n",
    "print(\"conjunto de validacion\")\n",
    "#para validacion\n",
    "pred_test_random_forest = ran_forest.predict(X_test)\n",
    "print(\"RMSE \",np.sqrt(mean_squared_error(y_test,pred_test_random_forest)))\n",
    "print(\"R^2 \",r2_score(y_test, pred_test_random_forest))\n",
    "\n",
    "print(\"_____________________________\")\n",
    "print(\"MAPE\")\n",
    "print(np.mean(np.abs(((y_test - ran_forest.predict(X_test))/y_test)))*100)\n",
    "print(\"_____________________________\\n\\n\")\n",
    "\n"
   ]
  },
  {
   "cell_type": "code",
   "execution_count": null,
   "metadata": {},
   "outputs": [],
   "source": [
    "knn = KNeighborsClassifier()\n",
    "knn.fit(X_train, y_train)\n",
    "parameters_knn = {'n_neighbors':[1, 10]}\n",
    "knn = KNeighborsClassifier()\n",
    "gs = GridSearchCV(knn, parameters_knn)\n",
    "gs.fit(X_train, y_train)\n",
    "print(\"Best: %f con %s\" % (gs.best_score_, gs.best_params_))"
   ]
  },
  {
   "cell_type": "code",
   "execution_count": null,
   "metadata": {},
   "outputs": [],
   "source": [
    "print(\"KNeighbors\\n\")\n",
    "knn = KNeighborsClassifier(n_neighbors= 10)\n",
    "knn.fit(X_train, y_train)\n",
    "\n",
    "pred_train_knn = knn.predict(X_train)\n",
    "print(\"_____________________________\")\n",
    "print(\"conjunto de train\")\n",
    "#para train\n",
    "print(\"RMSE \",np.sqrt(mean_squared_error(y_train,pred_train_knn)))\n",
    "print(\"R^2 \",r2_score(y_train, pred_train_knn))\n",
    "print(\"_____________________________\")\n",
    "print(\"_____________________________\")\n",
    "print(\"conjunto de validacion\")\n",
    "#para validacion\n",
    "pred_test_knn = knn.predict(X_test)\n",
    "print(\"RMSE \",np.sqrt(mean_squared_error(y_test,pred_test_knn)))\n",
    "print(\"R^2 \",r2_score(y_test, pred_test_knn))\n",
    "\n",
    "print(\"_____________________________\")\n",
    "print(\"MAPE\")\n",
    "print(np.mean(np.abs(((y_test - knn.predict(X_test))/y_test)))*100)\n",
    "print(\"_____________________________\\n\\n\")\n"
   ]
  },
  {
   "cell_type": "markdown",
   "metadata": {},
   "source": [
    "el mejor modelo parece ser el random forest"
   ]
  },
  {
   "cell_type": "code",
   "execution_count": null,
   "metadata": {},
   "outputs": [],
   "source": [
    "ran_forest = RandomForestRegressor() \n",
    "ran_forest.fit(X_train, y_train)\n",
    "\n",
    "y_pred_ran_forest = ran_forest.predict(X_test)"
   ]
  },
  {
   "cell_type": "code",
   "execution_count": null,
   "metadata": {},
   "outputs": [],
   "source": [
    "plt.figure(figsize=(5, 7))\n",
    "\n",
    "\n",
    "ax = sns.distplot(y_test, hist=False, color=\"r\", label=\"valor real\")\n",
    "sns.distplot(y_pred_ran_forest, hist=False, color=\"b\", label=\"prediccion\" , ax=ax)\n",
    "\n",
    "\n",
    "plt.title('valor real vs prediccion')\n",
    "plt.legend()\n",
    "\n",
    "plt.show()\n",
    "plt.close()"
   ]
  },
  {
   "cell_type": "markdown",
   "metadata": {},
   "source": [
    "podemos ver que la prediccion es buena aunque no perfecta"
   ]
  }
 ],
 "metadata": {
  "kernelspec": {
   "display_name": "Python 3",
   "language": "python",
   "name": "python3"
  },
  "language_info": {
   "codemirror_mode": {
    "name": "ipython",
    "version": 3
   },
   "file_extension": ".py",
   "mimetype": "text/x-python",
   "name": "python",
   "nbconvert_exporter": "python",
   "pygments_lexer": "ipython3",
   "version": "3.8.8"
  },
  "latex_envs": {
   "LaTeX_envs_menu_present": true,
   "autoclose": false,
   "autocomplete": true,
   "bibliofile": "biblio.bib",
   "cite_by": "apalike",
   "current_citInitial": 1,
   "eqLabelWithNumbers": true,
   "eqNumInitial": 1,
   "hotkeys": {
    "equation": "Ctrl-E",
    "itemize": "Ctrl-I"
   },
   "labels_anchors": false,
   "latex_user_defs": false,
   "report_style_numbering": false,
   "user_envs_cfg": false
  }
 },
 "nbformat": 4,
 "nbformat_minor": 4
}
